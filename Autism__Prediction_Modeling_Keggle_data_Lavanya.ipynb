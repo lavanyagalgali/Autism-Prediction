{
  "nbformat": 4,
  "nbformat_minor": 0,
  "metadata": {
    "colab": {
      "provenance": [],
      "collapsed_sections": [
        "JfPCe_b832lr",
        "7CTlSJXeWy0d",
        "ACMT_ej4cG1G",
        "-d5tzymeWt91",
        "GNjzbpsUW5LL",
        "YbgiVglOfk9-",
        "ftUt4P5tT-LH",
        "G-hUpHsxLv5i",
        "5K-57Zn7XKr-",
        "BDe0enOOXejh",
        "P3F2hz4FXvj1",
        "QpBnnwIdXvgV",
        "9jZOqeusixQi",
        "TAsloiOfXvdn"
      ]
    },
    "kernelspec": {
      "name": "python3",
      "display_name": "Python 3"
    },
    "language_info": {
      "name": "python"
    }
  },
  "cells": [
    {
      "cell_type": "markdown",
      "source": [
        "# <center><b>**Autism _Prediction_Model Building**<center><b>"
      ],
      "metadata": {
        "id": "MD2Onc1aFAh6"
      }
    },
    {
      "cell_type": "markdown",
      "source": [
        "---\n",
        "# **Table of Contents**\n",
        "---\n",
        "**1.** [**Installing & Importing Libraries**](#Section1)<br>\n",
        "**2.** [**Data Acquisition**](#Section2)<br>\n",
        "**3.** [**Feature Scaling**](#Section3)<br>\n",
        "**4.** [**Model Development & Evaluation**](#Section4)<br>\n",
        "\n",
        "   - **4.1** [**Data Preparation**](#Section4.1)<br>\n",
        "   - **4.2** [**LogisticRegression**](#Section4.2)<br>\n",
        "   - **4.3** [**RandomForest Classifier**](#Section4.3)<br>\n",
        "   - **4.4** [**DecisionTree Classifier**](#Section4.4)<br>\n",
        "   - **4.5** [**Navie Bayes**](#Section4.5)<br>\n",
        "   - **4.6** [**Ada Boosting**](#Section4.6)<br>\n",
        "   - **4.7** [**XG Boost Classifier**](#Section4.7)<br>\n",
        "   - **4.8** [**Gradient Bosst Classifier**](#Section4.8)<br>\n",
        "\n",
        "**5** [**Hyperparameter Tuning**](#Section5)<br>\n",
        "   \n",
        "   - **5.1** [**RandomizedSearchCV with RandomforestClassifier**](#Section5.1)<br>\n",
        "   - **5.2** [**GridSearchCV with DecisionTree Classifier**](#Section5.2)<br>\n",
        "\n",
        "**6** [**Tune Model With Cross Validation**](#Section6)<br>\n",
        "  - **6.1** [**LogisticRegression**](#Section6.1)<br>\n",
        "  - **6.2** [**Ada Boosting**](#Section6.2)<br>\n",
        "  - **6.3** [**XG Boost Classifier**](#Section6.3)<br>\n",
        "  - **6.4** [**Gradient Bosst Classifier**](#Section6.4)<br>\n",
        "\n",
        "**7** [**Selecting Best Model**](#Section7)<br>\n"
      ],
      "metadata": {
        "id": "xb9vZZrNrT3T"
      }
    },
    {
      "cell_type": "markdown",
      "source": [
        "<a name = Section1></a>\n",
        "### **1. Installing & Importing Libraries**"
      ],
      "metadata": {
        "id": "JfPCe_b832lr"
      }
    },
    {
      "cell_type": "code",
      "execution_count": 136,
      "metadata": {
        "id": "UZ0VGHlW_Mtd"
      },
      "outputs": [],
      "source": [
        "import pandas as pd \n",
        "import numpy as np\n",
        "import matplotlib.pyplot as plt\n",
        "from sklearn.preprocessing import StandardScaler\n",
        "from sklearn.model_selection import train_test_split,RandomizedSearchCV,GridSearchCV\n",
        "from sklearn.linear_model import LogisticRegression\n",
        "from sklearn.ensemble import RandomForestClassifier,AdaBoostClassifier,GradientBoostingClassifier, StackingClassifier\n",
        "from xgboost import XGBClassifier\n",
        "from sklearn.tree import DecisionTreeClassifier\n",
        "from sklearn.naive_bayes import GaussianNB \n",
        "\n",
        "from sklearn.metrics import accuracy_score,f1_score,classification_report,confusion_matrix,plot_confusion_matrix,roc_curve,precision_score,recall_score\n",
        "from sklearn.metrics import ConfusionMatrixDisplay ,precision_recall_curve,plot_roc_curve\n",
        "import warnings                                                     # Importing warning to disable runtime warnings\n",
        "warnings.filterwarnings(\"ignore\") "
      ]
    },
    {
      "cell_type": "code",
      "source": [],
      "metadata": {
        "id": "8g1MwfMAMcuS"
      },
      "execution_count": 136,
      "outputs": []
    },
    {
      "cell_type": "markdown",
      "source": [
        "<a name = Section2></a>\n",
        "### **2. Data Acquisition**"
      ],
      "metadata": {
        "id": "q-UlGEL84B95"
      }
    },
    {
      "cell_type": "code",
      "source": [
        "df = pd.read_csv('/content/Toddler Autism dataset July 2018.csv')\n",
        "df.head(2)"
      ],
      "metadata": {
        "colab": {
          "base_uri": "https://localhost:8080/",
          "height": 191
        },
        "id": "uL76uaqxCUbK",
        "outputId": "4c413fc3-2e48-4fd9-9e0d-3b3c1ff4e334"
      },
      "execution_count": 137,
      "outputs": [
        {
          "output_type": "execute_result",
          "data": {
            "text/plain": [
              "   Case_No  A1  A2  A3  A4  A5  A6  A7  A8  A9  A10  Age_Mons  Qchat-10-Score  \\\n",
              "0        1   0   0   0   0   0   0   1   1   0    1        28               3   \n",
              "1        2   1   1   0   0   0   1   1   0   0    0        36               4   \n",
              "\n",
              "  Sex       Ethnicity Jaundice Family_mem_with_ASD Who completed the test  \\\n",
              "0   f  middle eastern      yes                  no          family member   \n",
              "1   m  White European      yes                  no          family member   \n",
              "\n",
              "  Class/ASD Traits   \n",
              "0                No  \n",
              "1               Yes  "
            ],
            "text/html": [
              "\n",
              "  <div id=\"df-26c7c109-1b72-408b-942e-eeaf90f23d66\">\n",
              "    <div class=\"colab-df-container\">\n",
              "      <div>\n",
              "<style scoped>\n",
              "    .dataframe tbody tr th:only-of-type {\n",
              "        vertical-align: middle;\n",
              "    }\n",
              "\n",
              "    .dataframe tbody tr th {\n",
              "        vertical-align: top;\n",
              "    }\n",
              "\n",
              "    .dataframe thead th {\n",
              "        text-align: right;\n",
              "    }\n",
              "</style>\n",
              "<table border=\"1\" class=\"dataframe\">\n",
              "  <thead>\n",
              "    <tr style=\"text-align: right;\">\n",
              "      <th></th>\n",
              "      <th>Case_No</th>\n",
              "      <th>A1</th>\n",
              "      <th>A2</th>\n",
              "      <th>A3</th>\n",
              "      <th>A4</th>\n",
              "      <th>A5</th>\n",
              "      <th>A6</th>\n",
              "      <th>A7</th>\n",
              "      <th>A8</th>\n",
              "      <th>A9</th>\n",
              "      <th>A10</th>\n",
              "      <th>Age_Mons</th>\n",
              "      <th>Qchat-10-Score</th>\n",
              "      <th>Sex</th>\n",
              "      <th>Ethnicity</th>\n",
              "      <th>Jaundice</th>\n",
              "      <th>Family_mem_with_ASD</th>\n",
              "      <th>Who completed the test</th>\n",
              "      <th>Class/ASD Traits</th>\n",
              "    </tr>\n",
              "  </thead>\n",
              "  <tbody>\n",
              "    <tr>\n",
              "      <th>0</th>\n",
              "      <td>1</td>\n",
              "      <td>0</td>\n",
              "      <td>0</td>\n",
              "      <td>0</td>\n",
              "      <td>0</td>\n",
              "      <td>0</td>\n",
              "      <td>0</td>\n",
              "      <td>1</td>\n",
              "      <td>1</td>\n",
              "      <td>0</td>\n",
              "      <td>1</td>\n",
              "      <td>28</td>\n",
              "      <td>3</td>\n",
              "      <td>f</td>\n",
              "      <td>middle eastern</td>\n",
              "      <td>yes</td>\n",
              "      <td>no</td>\n",
              "      <td>family member</td>\n",
              "      <td>No</td>\n",
              "    </tr>\n",
              "    <tr>\n",
              "      <th>1</th>\n",
              "      <td>2</td>\n",
              "      <td>1</td>\n",
              "      <td>1</td>\n",
              "      <td>0</td>\n",
              "      <td>0</td>\n",
              "      <td>0</td>\n",
              "      <td>1</td>\n",
              "      <td>1</td>\n",
              "      <td>0</td>\n",
              "      <td>0</td>\n",
              "      <td>0</td>\n",
              "      <td>36</td>\n",
              "      <td>4</td>\n",
              "      <td>m</td>\n",
              "      <td>White European</td>\n",
              "      <td>yes</td>\n",
              "      <td>no</td>\n",
              "      <td>family member</td>\n",
              "      <td>Yes</td>\n",
              "    </tr>\n",
              "  </tbody>\n",
              "</table>\n",
              "</div>\n",
              "      <button class=\"colab-df-convert\" onclick=\"convertToInteractive('df-26c7c109-1b72-408b-942e-eeaf90f23d66')\"\n",
              "              title=\"Convert this dataframe to an interactive table.\"\n",
              "              style=\"display:none;\">\n",
              "        \n",
              "  <svg xmlns=\"http://www.w3.org/2000/svg\" height=\"24px\"viewBox=\"0 0 24 24\"\n",
              "       width=\"24px\">\n",
              "    <path d=\"M0 0h24v24H0V0z\" fill=\"none\"/>\n",
              "    <path d=\"M18.56 5.44l.94 2.06.94-2.06 2.06-.94-2.06-.94-.94-2.06-.94 2.06-2.06.94zm-11 1L8.5 8.5l.94-2.06 2.06-.94-2.06-.94L8.5 2.5l-.94 2.06-2.06.94zm10 10l.94 2.06.94-2.06 2.06-.94-2.06-.94-.94-2.06-.94 2.06-2.06.94z\"/><path d=\"M17.41 7.96l-1.37-1.37c-.4-.4-.92-.59-1.43-.59-.52 0-1.04.2-1.43.59L10.3 9.45l-7.72 7.72c-.78.78-.78 2.05 0 2.83L4 21.41c.39.39.9.59 1.41.59.51 0 1.02-.2 1.41-.59l7.78-7.78 2.81-2.81c.8-.78.8-2.07 0-2.86zM5.41 20L4 18.59l7.72-7.72 1.47 1.35L5.41 20z\"/>\n",
              "  </svg>\n",
              "      </button>\n",
              "      \n",
              "  <style>\n",
              "    .colab-df-container {\n",
              "      display:flex;\n",
              "      flex-wrap:wrap;\n",
              "      gap: 12px;\n",
              "    }\n",
              "\n",
              "    .colab-df-convert {\n",
              "      background-color: #E8F0FE;\n",
              "      border: none;\n",
              "      border-radius: 50%;\n",
              "      cursor: pointer;\n",
              "      display: none;\n",
              "      fill: #1967D2;\n",
              "      height: 32px;\n",
              "      padding: 0 0 0 0;\n",
              "      width: 32px;\n",
              "    }\n",
              "\n",
              "    .colab-df-convert:hover {\n",
              "      background-color: #E2EBFA;\n",
              "      box-shadow: 0px 1px 2px rgba(60, 64, 67, 0.3), 0px 1px 3px 1px rgba(60, 64, 67, 0.15);\n",
              "      fill: #174EA6;\n",
              "    }\n",
              "\n",
              "    [theme=dark] .colab-df-convert {\n",
              "      background-color: #3B4455;\n",
              "      fill: #D2E3FC;\n",
              "    }\n",
              "\n",
              "    [theme=dark] .colab-df-convert:hover {\n",
              "      background-color: #434B5C;\n",
              "      box-shadow: 0px 1px 3px 1px rgba(0, 0, 0, 0.15);\n",
              "      filter: drop-shadow(0px 1px 2px rgba(0, 0, 0, 0.3));\n",
              "      fill: #FFFFFF;\n",
              "    }\n",
              "  </style>\n",
              "\n",
              "      <script>\n",
              "        const buttonEl =\n",
              "          document.querySelector('#df-26c7c109-1b72-408b-942e-eeaf90f23d66 button.colab-df-convert');\n",
              "        buttonEl.style.display =\n",
              "          google.colab.kernel.accessAllowed ? 'block' : 'none';\n",
              "\n",
              "        async function convertToInteractive(key) {\n",
              "          const element = document.querySelector('#df-26c7c109-1b72-408b-942e-eeaf90f23d66');\n",
              "          const dataTable =\n",
              "            await google.colab.kernel.invokeFunction('convertToInteractive',\n",
              "                                                     [key], {});\n",
              "          if (!dataTable) return;\n",
              "\n",
              "          const docLinkHtml = 'Like what you see? Visit the ' +\n",
              "            '<a target=\"_blank\" href=https://colab.research.google.com/notebooks/data_table.ipynb>data table notebook</a>'\n",
              "            + ' to learn more about interactive tables.';\n",
              "          element.innerHTML = '';\n",
              "          dataTable['output_type'] = 'display_data';\n",
              "          await google.colab.output.renderOutput(dataTable, element);\n",
              "          const docLink = document.createElement('div');\n",
              "          docLink.innerHTML = docLinkHtml;\n",
              "          element.appendChild(docLink);\n",
              "        }\n",
              "      </script>\n",
              "    </div>\n",
              "  </div>\n",
              "  "
            ]
          },
          "metadata": {},
          "execution_count": 137
        }
      ]
    },
    {
      "cell_type": "code",
      "source": [
        "df.columns"
      ],
      "metadata": {
        "id": "XNulxn4SNBGG",
        "colab": {
          "base_uri": "https://localhost:8080/"
        },
        "outputId": "c85e0019-2df1-4d4e-f249-ddec6e584d2e"
      },
      "execution_count": 138,
      "outputs": [
        {
          "output_type": "execute_result",
          "data": {
            "text/plain": [
              "Index(['Case_No', 'A1', 'A2', 'A3', 'A4', 'A5', 'A6', 'A7', 'A8', 'A9', 'A10',\n",
              "       'Age_Mons', 'Qchat-10-Score', 'Sex', 'Ethnicity', 'Jaundice',\n",
              "       'Family_mem_with_ASD', 'Who completed the test', 'Class/ASD Traits '],\n",
              "      dtype='object')"
            ]
          },
          "metadata": {},
          "execution_count": 138
        }
      ]
    },
    {
      "cell_type": "code",
      "source": [
        "df.info()"
      ],
      "metadata": {
        "colab": {
          "base_uri": "https://localhost:8080/"
        },
        "id": "Xs8z-SL4DAeU",
        "outputId": "0f5e67a7-d8d9-4503-bfe5-aad60939d7ba"
      },
      "execution_count": 139,
      "outputs": [
        {
          "output_type": "stream",
          "name": "stdout",
          "text": [
            "<class 'pandas.core.frame.DataFrame'>\n",
            "RangeIndex: 1054 entries, 0 to 1053\n",
            "Data columns (total 19 columns):\n",
            " #   Column                  Non-Null Count  Dtype \n",
            "---  ------                  --------------  ----- \n",
            " 0   Case_No                 1054 non-null   int64 \n",
            " 1   A1                      1054 non-null   int64 \n",
            " 2   A2                      1054 non-null   int64 \n",
            " 3   A3                      1054 non-null   int64 \n",
            " 4   A4                      1054 non-null   int64 \n",
            " 5   A5                      1054 non-null   int64 \n",
            " 6   A6                      1054 non-null   int64 \n",
            " 7   A7                      1054 non-null   int64 \n",
            " 8   A8                      1054 non-null   int64 \n",
            " 9   A9                      1054 non-null   int64 \n",
            " 10  A10                     1054 non-null   int64 \n",
            " 11  Age_Mons                1054 non-null   int64 \n",
            " 12  Qchat-10-Score          1054 non-null   int64 \n",
            " 13  Sex                     1054 non-null   object\n",
            " 14  Ethnicity               1054 non-null   object\n",
            " 15  Jaundice                1054 non-null   object\n",
            " 16  Family_mem_with_ASD     1054 non-null   object\n",
            " 17  Who completed the test  1054 non-null   object\n",
            " 18  Class/ASD Traits        1054 non-null   object\n",
            "dtypes: int64(13), object(6)\n",
            "memory usage: 156.6+ KB\n"
          ]
        }
      ]
    },
    {
      "cell_type": "code",
      "source": [
        "df2=df.copy()"
      ],
      "metadata": {
        "id": "pwxx8E0E-x-5"
      },
      "execution_count": 140,
      "outputs": []
    },
    {
      "cell_type": "code",
      "source": [
        "df['Age_Years'] = round(df['Age_Mons']/12,0)"
      ],
      "metadata": {
        "id": "7_GilwaupoDZ"
      },
      "execution_count": 141,
      "outputs": []
    },
    {
      "cell_type": "code",
      "source": [
        "df['Age_Years'].value_counts()"
      ],
      "metadata": {
        "colab": {
          "base_uri": "https://localhost:8080/"
        },
        "id": "xpoKLIMepzaG",
        "outputId": "8d3824cc-fa97-4995-fc7d-ba4dd9c7eb2f"
      },
      "execution_count": 142,
      "outputs": [
        {
          "output_type": "execute_result",
          "data": {
            "text/plain": [
              "3.0    480\n",
              "2.0    414\n",
              "1.0    160\n",
              "Name: Age_Years, dtype: int64"
            ]
          },
          "metadata": {},
          "execution_count": 142
        }
      ]
    },
    {
      "cell_type": "code",
      "source": [
        "# to check the perfectness of scoring in Qchat column , added column with sum of all the columns(A1 to A10)\n",
        "df['new_Qchat_10_score'] = df[['A1', 'A2', 'A3', 'A4', 'A5', 'A6', 'A7', 'A8','A9', 'A10']].sum(axis =1)"
      ],
      "metadata": {
        "id": "B0UAISaBqZHW"
      },
      "execution_count": 143,
      "outputs": []
    },
    {
      "cell_type": "code",
      "source": [
        "df[['Qchat-10-Score','new_Qchat_10_score']].value_counts().sort_index()"
      ],
      "metadata": {
        "colab": {
          "base_uri": "https://localhost:8080/"
        },
        "id": "dEnHDizKqmGw",
        "outputId": "87552bc3-4367-41c1-8105-de6dc4864fbb"
      },
      "execution_count": 144,
      "outputs": [
        {
          "output_type": "execute_result",
          "data": {
            "text/plain": [
              "Qchat-10-Score  new_Qchat_10_score\n",
              "0               0                      54\n",
              "1               1                      88\n",
              "2               2                      88\n",
              "3               3                      96\n",
              "4               4                     110\n",
              "5               5                     120\n",
              "6               6                      96\n",
              "7               7                     135\n",
              "8               8                      97\n",
              "9               9                      95\n",
              "10              10                     75\n",
              "dtype: int64"
            ]
          },
          "metadata": {},
          "execution_count": 144
        }
      ]
    },
    {
      "cell_type": "code",
      "source": [
        "df['Class/ASD Traits '].value_counts()"
      ],
      "metadata": {
        "colab": {
          "base_uri": "https://localhost:8080/"
        },
        "id": "nnmODDLQtLYk",
        "outputId": "0f832cd4-f399-4103-806c-0ba5fc5a3caa"
      },
      "execution_count": 145,
      "outputs": [
        {
          "output_type": "execute_result",
          "data": {
            "text/plain": [
              "Yes    728\n",
              "No     326\n",
              "Name: Class/ASD Traits , dtype: int64"
            ]
          },
          "metadata": {},
          "execution_count": 145
        }
      ]
    },
    {
      "cell_type": "code",
      "source": [
        "round(df['Class/ASD Traits '].value_counts()/np.float(len(df)),2)"
      ],
      "metadata": {
        "colab": {
          "base_uri": "https://localhost:8080/"
        },
        "id": "tcol_Ed_tVxS",
        "outputId": "16527e8c-bf22-4e01-a998-2b950b53f700"
      },
      "execution_count": 146,
      "outputs": [
        {
          "output_type": "execute_result",
          "data": {
            "text/plain": [
              "Yes    0.69\n",
              "No     0.31\n",
              "Name: Class/ASD Traits , dtype: float64"
            ]
          },
          "metadata": {},
          "execution_count": 146
        }
      ]
    },
    {
      "cell_type": "markdown",
      "source": [
        "**We can see that 69% of data belongs to class Yes and 31% data belongs to class No . Its a clear indication of data imbalance.**\n",
        "\n",
        "\n",
        "\n",
        "\n"
      ],
      "metadata": {
        "id": "6woWf7dGtbET"
      }
    },
    {
      "cell_type": "code",
      "source": [
        "# df = df[df['Age_Years'] <13]"
      ],
      "metadata": {
        "id": "vrmUN2iSXLgj"
      },
      "execution_count": 147,
      "outputs": []
    },
    {
      "cell_type": "code",
      "source": [
        "# df.dropna(axis=0, how='any',inplace=True)"
      ],
      "metadata": {
        "id": "N36D5TkfXnrG"
      },
      "execution_count": 148,
      "outputs": []
    },
    {
      "cell_type": "code",
      "source": [
        "df.shape"
      ],
      "metadata": {
        "colab": {
          "base_uri": "https://localhost:8080/"
        },
        "id": "YRQq2urZXxS4",
        "outputId": "8a6f4285-ec73-4a48-99ae-7c68c452f8b7"
      },
      "execution_count": 149,
      "outputs": [
        {
          "output_type": "execute_result",
          "data": {
            "text/plain": [
              "(1054, 21)"
            ]
          },
          "metadata": {},
          "execution_count": 149
        }
      ]
    },
    {
      "cell_type": "code",
      "source": [
        "#Intialize empty list for categorical features and their length\n",
        "cat_features = []\n",
        "label_len = []\n",
        "\n",
        "# Identify categorical features\n",
        "for i in df.columns:\n",
        "  if (df[i].dtype == object):\n",
        "    cat_features.append(i)\n",
        "\n",
        "# Identify labels length per leature\n",
        "for i in cat_features:\n",
        "  label_len.append(len(df[i].unique()))\n",
        "\n",
        "# Display total categorical features\n",
        "print('Total Categorical Features:', len(cat_features))\n",
        "\n",
        "# Create and show categorical feature frame\n",
        "cat_frame = pd.DataFrame(data = {'Length': label_len}, index=cat_features)\n",
        "cat_frame"
      ],
      "metadata": {
        "colab": {
          "base_uri": "https://localhost:8080/",
          "height": 255
        },
        "id": "uCQbXMTqYIPf",
        "outputId": "a6104110-e66e-405a-e9f1-0fc326639e74"
      },
      "execution_count": 150,
      "outputs": [
        {
          "output_type": "stream",
          "name": "stdout",
          "text": [
            "Total Categorical Features: 6\n"
          ]
        },
        {
          "output_type": "execute_result",
          "data": {
            "text/plain": [
              "                        Length\n",
              "Sex                          2\n",
              "Ethnicity                   11\n",
              "Jaundice                     2\n",
              "Family_mem_with_ASD          2\n",
              "Who completed the test       5\n",
              "Class/ASD Traits             2"
            ],
            "text/html": [
              "\n",
              "  <div id=\"df-891d62b2-3a91-46c5-8f2a-e51353823ee0\">\n",
              "    <div class=\"colab-df-container\">\n",
              "      <div>\n",
              "<style scoped>\n",
              "    .dataframe tbody tr th:only-of-type {\n",
              "        vertical-align: middle;\n",
              "    }\n",
              "\n",
              "    .dataframe tbody tr th {\n",
              "        vertical-align: top;\n",
              "    }\n",
              "\n",
              "    .dataframe thead th {\n",
              "        text-align: right;\n",
              "    }\n",
              "</style>\n",
              "<table border=\"1\" class=\"dataframe\">\n",
              "  <thead>\n",
              "    <tr style=\"text-align: right;\">\n",
              "      <th></th>\n",
              "      <th>Length</th>\n",
              "    </tr>\n",
              "  </thead>\n",
              "  <tbody>\n",
              "    <tr>\n",
              "      <th>Sex</th>\n",
              "      <td>2</td>\n",
              "    </tr>\n",
              "    <tr>\n",
              "      <th>Ethnicity</th>\n",
              "      <td>11</td>\n",
              "    </tr>\n",
              "    <tr>\n",
              "      <th>Jaundice</th>\n",
              "      <td>2</td>\n",
              "    </tr>\n",
              "    <tr>\n",
              "      <th>Family_mem_with_ASD</th>\n",
              "      <td>2</td>\n",
              "    </tr>\n",
              "    <tr>\n",
              "      <th>Who completed the test</th>\n",
              "      <td>5</td>\n",
              "    </tr>\n",
              "    <tr>\n",
              "      <th>Class/ASD Traits</th>\n",
              "      <td>2</td>\n",
              "    </tr>\n",
              "  </tbody>\n",
              "</table>\n",
              "</div>\n",
              "      <button class=\"colab-df-convert\" onclick=\"convertToInteractive('df-891d62b2-3a91-46c5-8f2a-e51353823ee0')\"\n",
              "              title=\"Convert this dataframe to an interactive table.\"\n",
              "              style=\"display:none;\">\n",
              "        \n",
              "  <svg xmlns=\"http://www.w3.org/2000/svg\" height=\"24px\"viewBox=\"0 0 24 24\"\n",
              "       width=\"24px\">\n",
              "    <path d=\"M0 0h24v24H0V0z\" fill=\"none\"/>\n",
              "    <path d=\"M18.56 5.44l.94 2.06.94-2.06 2.06-.94-2.06-.94-.94-2.06-.94 2.06-2.06.94zm-11 1L8.5 8.5l.94-2.06 2.06-.94-2.06-.94L8.5 2.5l-.94 2.06-2.06.94zm10 10l.94 2.06.94-2.06 2.06-.94-2.06-.94-.94-2.06-.94 2.06-2.06.94z\"/><path d=\"M17.41 7.96l-1.37-1.37c-.4-.4-.92-.59-1.43-.59-.52 0-1.04.2-1.43.59L10.3 9.45l-7.72 7.72c-.78.78-.78 2.05 0 2.83L4 21.41c.39.39.9.59 1.41.59.51 0 1.02-.2 1.41-.59l7.78-7.78 2.81-2.81c.8-.78.8-2.07 0-2.86zM5.41 20L4 18.59l7.72-7.72 1.47 1.35L5.41 20z\"/>\n",
              "  </svg>\n",
              "      </button>\n",
              "      \n",
              "  <style>\n",
              "    .colab-df-container {\n",
              "      display:flex;\n",
              "      flex-wrap:wrap;\n",
              "      gap: 12px;\n",
              "    }\n",
              "\n",
              "    .colab-df-convert {\n",
              "      background-color: #E8F0FE;\n",
              "      border: none;\n",
              "      border-radius: 50%;\n",
              "      cursor: pointer;\n",
              "      display: none;\n",
              "      fill: #1967D2;\n",
              "      height: 32px;\n",
              "      padding: 0 0 0 0;\n",
              "      width: 32px;\n",
              "    }\n",
              "\n",
              "    .colab-df-convert:hover {\n",
              "      background-color: #E2EBFA;\n",
              "      box-shadow: 0px 1px 2px rgba(60, 64, 67, 0.3), 0px 1px 3px 1px rgba(60, 64, 67, 0.15);\n",
              "      fill: #174EA6;\n",
              "    }\n",
              "\n",
              "    [theme=dark] .colab-df-convert {\n",
              "      background-color: #3B4455;\n",
              "      fill: #D2E3FC;\n",
              "    }\n",
              "\n",
              "    [theme=dark] .colab-df-convert:hover {\n",
              "      background-color: #434B5C;\n",
              "      box-shadow: 0px 1px 3px 1px rgba(0, 0, 0, 0.15);\n",
              "      filter: drop-shadow(0px 1px 2px rgba(0, 0, 0, 0.3));\n",
              "      fill: #FFFFFF;\n",
              "    }\n",
              "  </style>\n",
              "\n",
              "      <script>\n",
              "        const buttonEl =\n",
              "          document.querySelector('#df-891d62b2-3a91-46c5-8f2a-e51353823ee0 button.colab-df-convert');\n",
              "        buttonEl.style.display =\n",
              "          google.colab.kernel.accessAllowed ? 'block' : 'none';\n",
              "\n",
              "        async function convertToInteractive(key) {\n",
              "          const element = document.querySelector('#df-891d62b2-3a91-46c5-8f2a-e51353823ee0');\n",
              "          const dataTable =\n",
              "            await google.colab.kernel.invokeFunction('convertToInteractive',\n",
              "                                                     [key], {});\n",
              "          if (!dataTable) return;\n",
              "\n",
              "          const docLinkHtml = 'Like what you see? Visit the ' +\n",
              "            '<a target=\"_blank\" href=https://colab.research.google.com/notebooks/data_table.ipynb>data table notebook</a>'\n",
              "            + ' to learn more about interactive tables.';\n",
              "          element.innerHTML = '';\n",
              "          dataTable['output_type'] = 'display_data';\n",
              "          await google.colab.output.renderOutput(dataTable, element);\n",
              "          const docLink = document.createElement('div');\n",
              "          docLink.innerHTML = docLinkHtml;\n",
              "          element.appendChild(docLink);\n",
              "        }\n",
              "      </script>\n",
              "    </div>\n",
              "  </div>\n",
              "  "
            ]
          },
          "metadata": {},
          "execution_count": 150
        }
      ]
    },
    {
      "cell_type": "code",
      "source": [
        "from sklearn.preprocessing import LabelEncoder\n",
        "le = LabelEncoder()\n",
        "for i in df.columns:\n",
        "  if df[i].dtype =='object':\n",
        "    df[i] = le.fit_transform(df[i])"
      ],
      "metadata": {
        "id": "UmkLHraAZjuf"
      },
      "execution_count": 151,
      "outputs": []
    },
    {
      "cell_type": "code",
      "source": [
        "df.drop(['new_Qchat_10_score','Qchat-10-Score'],axis = 1, inplace = True)"
      ],
      "metadata": {
        "id": "WcAwPSiYZ0W6"
      },
      "execution_count": 152,
      "outputs": []
    },
    {
      "cell_type": "markdown",
      "source": [
        "<a name = Section3></a>\n",
        "### **3.Feature scaling and selection** "
      ],
      "metadata": {
        "id": "98VCeqpVEVl0"
      }
    },
    {
      "cell_type": "code",
      "source": [
        "from sklearn.preprocessing import StandardScaler\n",
        "scaler = StandardScaler()\n",
        "X_scaled = scaler.fit_transform(df.drop(['Class/ASD Traits '],axis =1))"
      ],
      "metadata": {
        "id": "a4KbSp-CEU7J"
      },
      "execution_count": 153,
      "outputs": []
    },
    {
      "cell_type": "code",
      "source": [
        "x = pd.DataFrame(data=X_scaled, columns=df.drop(['Class/ASD Traits '],axis =1).columns)\n",
        "y= df['Class/ASD Traits ']"
      ],
      "metadata": {
        "id": "1nbclZ6ME-on"
      },
      "execution_count": 154,
      "outputs": []
    },
    {
      "cell_type": "code",
      "source": [
        "from sklearn.feature_selection import SelectFromModel\n",
        "from yellowbrick.model_selection import FeatureImportances \n",
        "from sklearn.ensemble import RandomForestClassifier\n",
        "selector = SelectFromModel(RandomForestClassifier(n_estimators = 10, random_state = 42))\n",
        "selector.fit(x, y)\n",
        "\n",
        "# Extracting list of important features\n",
        "selected_feat = x.columns[(selector.get_support())].tolist()\n",
        "\n",
        "# Show total number of important features extracted by the model\n",
        "print('Total Features Selected are', len(selected_feat))\n",
        "\n",
        "# Estimated by taking mean(default) of feature importance\n",
        "print('Threshold set by Model:', np.round(selector.threshold_, decimals = 2))\n",
        "print('Important Features:', selected_feat)"
      ],
      "metadata": {
        "colab": {
          "base_uri": "https://localhost:8080/"
        },
        "id": "WqwC9f6NE-lT",
        "outputId": "1f359efe-f907-4c91-95c9-3f21df2795e3"
      },
      "execution_count": 155,
      "outputs": [
        {
          "output_type": "stream",
          "name": "stdout",
          "text": [
            "Total Features Selected are 7\n",
            "Threshold set by Model: 0.06\n",
            "Important Features: ['Case_No', 'A1', 'A2', 'A4', 'A5', 'A7', 'A9']\n"
          ]
        }
      ]
    },
    {
      "cell_type": "code",
      "source": [
        "figure = plt.figure(figsize=[10,10])\n",
        "\n",
        "# If you don't want relative importance, use relative = False in below method\n",
        "viz = FeatureImportances(selector.estimator, relative=False)\n",
        "viz.fit(x, y)\n",
        "\n",
        "plt.xlabel('Relative Importance', size=14)\n",
        "plt.ylabel('Features', size=14)\n",
        "plt.title(label='Feature Importances', size=16)\n",
        "plt.show()"
      ],
      "metadata": {
        "colab": {
          "base_uri": "https://localhost:8080/",
          "height": 627
        },
        "id": "fFAMiyp5FNqO",
        "outputId": "b2512085-7297-4d67-8bee-bc25bb77d96d"
      },
      "execution_count": 156,
      "outputs": [
        {
          "output_type": "display_data",
          "data": {
            "text/plain": [
              "<Figure size 720x720 with 1 Axes>"
            ],
            "image/png": "[encoded data removed]"
          },
          "metadata": {}
        }
      ]
    },
    {
      "cell_type": "markdown",
      "source": [
        "<a name = Section4></a>\n",
        "# **4. Model Development & Evaluation**"
      ],
      "metadata": {
        "id": "23ckwYbjUJ1h"
      }
    },
    {
      "cell_type": "markdown",
      "source": [
        "\n",
        "- In this section, we will develop Logistic Regression and Stochastic Gradient Descent and compare the performance.\n",
        "\n",
        "- For estimating the **performance** of the **model** we will be using **accuracy** as a **metric**.\n",
        "\n",
        "- Considering the complexity of data, we can run a **loop** over multiple **classifiers** and estimate the accuracy of the model.\n",
        "\n",
        "- But in a real-life situation, one must train the model individually as then decide which model is best in which situation."
      ],
      "metadata": {
        "id": "ZImKdSbjGTF3"
      }
    },
    {
      "cell_type": "markdown",
      "source": [
        "<a name = Section4.1></a>\n",
        "### **4.1. Data Preparation**"
      ],
      "metadata": {
        "id": "nSEdylN94cUc"
      }
    },
    {
      "cell_type": "code",
      "source": [
        "def model_eval(actual,predicted):\n",
        "    acc_score = accuracy_score(actual , predicted)\n",
        "    class_report = classification_report(actual , predicted)\n",
        "    print('The accuracy of the model is : ' ,acc_score)\n",
        "    print(confusion_matrix(actual,predicted))\n",
        "    print(class_report)\n",
        "    "
      ],
      "metadata": {
        "id": "nNsYJyOzCUXp"
      },
      "execution_count": 157,
      "outputs": []
    },
    {
      "cell_type": "code",
      "source": [
        "def confus_matrix(df):\n",
        "    y_train_pred_count = df.predict(x_train)\n",
        "    y_test_pred_count = df.predict(x_test)\n",
        "\n",
        "    fig, (ax1, ax2) = plt.subplots(nrows=1, ncols=2, sharex=False, figsize=(15, 7))\n",
        "    plot_confusion_matrix(estimator=df, X=x_train, y_true=y_train, values_format='.7g', cmap='YlGnBu', ax=ax1)\n",
        "    plot_confusion_matrix(estimator=df, X=x_test, y_true=y_test, values_format='.7g', cmap='YlGnBu', ax=ax2)\n",
        "    ax1.set_title(label='Train Data', size=14)\n",
        "    ax2.set_title(label='Test Data', size=14)\n",
        "    ax1.grid(b=False)\n",
        "    ax2.grid(b=False)\n",
        "    plt.suptitle(t='Confusion Matrix', size=16)\n",
        "    plt.show()"
      ],
      "metadata": {
        "id": "94TIj-iTIsoU"
      },
      "execution_count": 158,
      "outputs": []
    },
    {
      "cell_type": "markdown",
      "source": [
        "**Now we will split our data in training and testing part for further development**"
      ],
      "metadata": {
        "id": "KgEnnoWPFZ4S"
      }
    },
    {
      "cell_type": "code",
      "source": [
        "x_train,x_test,y_train,y_test = train_test_split(x,y,test_size =0.2,random_state=365,stratify = y )"
      ],
      "metadata": {
        "id": "stcK_nMxED1c"
      },
      "execution_count": 159,
      "outputs": []
    },
    {
      "cell_type": "code",
      "source": [
        "print('Training Data Shape:', x_train.shape, y_train.shape)\n",
        "print('Testing Data Shape:', x_test.shape, y_test.shape)"
      ],
      "metadata": {
        "colab": {
          "base_uri": "https://localhost:8080/"
        },
        "id": "VmcCEiaYF91K",
        "outputId": "a8a4cb8c-5238-47b9-fdab-5b31c00ce5a8"
      },
      "execution_count": 160,
      "outputs": [
        {
          "output_type": "stream",
          "name": "stdout",
          "text": [
            "Training Data Shape: (843, 18) (843,)\n",
            "Testing Data Shape: (211, 18) (211,)\n"
          ]
        }
      ]
    },
    {
      "cell_type": "markdown",
      "source": [
        "<a name = Section4.2></a>\n",
        "### **4.2. Logistic Regression**"
      ],
      "metadata": {
        "id": "mM5FSIE5DFDj"
      }
    },
    {
      "cell_type": "code",
      "source": [
        "logreg = LogisticRegression()\n",
        "logreg.fit(x_train,y_train)\n",
        "y_lr_train_pred = logreg.predict(x_train)\n",
        "y_lr_test_pred = logreg.predict(x_test)"
      ],
      "metadata": {
        "id": "EZREuE22CUVA"
      },
      "execution_count": 161,
      "outputs": []
    },
    {
      "cell_type": "code",
      "source": [
        "model_eval(y_train,y_lr_train_pred)"
      ],
      "metadata": {
        "colab": {
          "base_uri": "https://localhost:8080/"
        },
        "id": "-wSoIZvKCUSW",
        "outputId": "e0c52c4f-5218-4e77-c77c-e988b50a3840"
      },
      "execution_count": 162,
      "outputs": [
        {
          "output_type": "stream",
          "name": "stdout",
          "text": [
            "The accuracy of the model is :  1.0\n",
            "[[261   0]\n",
            " [  0 582]]\n",
            "              precision    recall  f1-score   support\n",
            "\n",
            "           0       1.00      1.00      1.00       261\n",
            "           1       1.00      1.00      1.00       582\n",
            "\n",
            "    accuracy                           1.00       843\n",
            "   macro avg       1.00      1.00      1.00       843\n",
            "weighted avg       1.00      1.00      1.00       843\n",
            "\n"
          ]
        }
      ]
    },
    {
      "cell_type": "code",
      "source": [
        "model_eval(y_test,y_lr_test_pred)"
      ],
      "metadata": {
        "colab": {
          "base_uri": "https://localhost:8080/"
        },
        "id": "Onz3avwrH6x0",
        "outputId": "027350a9-2694-416a-b0e4-77e5bcd0ddee"
      },
      "execution_count": 163,
      "outputs": [
        {
          "output_type": "stream",
          "name": "stdout",
          "text": [
            "The accuracy of the model is :  1.0\n",
            "[[ 65   0]\n",
            " [  0 146]]\n",
            "              precision    recall  f1-score   support\n",
            "\n",
            "           0       1.00      1.00      1.00        65\n",
            "           1       1.00      1.00      1.00       146\n",
            "\n",
            "    accuracy                           1.00       211\n",
            "   macro avg       1.00      1.00      1.00       211\n",
            "weighted avg       1.00      1.00      1.00       211\n",
            "\n"
          ]
        }
      ]
    },
    {
      "cell_type": "code",
      "source": [
        "confus_matrix(logreg)"
      ],
      "metadata": {
        "colab": {
          "base_uri": "https://localhost:8080/",
          "height": 468
        },
        "id": "2iWIPPKTH6uD",
        "outputId": "6095f1e4-198b-4514-b4be-d00cceb6ad62"
      },
      "execution_count": 164,
      "outputs": [
        {
          "output_type": "display_data",
          "data": {
            "text/plain": [
              "<Figure size 1080x504 with 4 Axes>"
            ],
            "image/png": "[encoded data removed]"
          },
          "metadata": {}
        }
      ]
    },
    {
      "cell_type": "code",
      "source": [
        "from sklearn import metrics\n",
        "\n",
        "probs = logreg.predict_proba(x_test)\n",
        "preds = probs[:,1]\n",
        "fpr, tpr, threshold = metrics.roc_curve(y_test, preds)\n",
        "roc_auc = metrics.auc(fpr, tpr)\n",
        "\n",
        "plt.title('Receiver Operating Characteristic')\n",
        "plt.plot(fpr, tpr, 'b', label = 'AUC = %0.2f' % roc_auc)\n",
        "plt.legend(loc = 'lower right')\n",
        "plt.plot([0, 1], [0, 1],'r--')\n",
        "plt.xlim([0, 1])\n",
        "plt.ylim([0, 1])\n",
        "plt.ylabel('True Positive Rate')\n",
        "plt.xlabel('False Positive Rate')\n",
        "plt.show()"
      ],
      "metadata": {
        "colab": {
          "base_uri": "https://localhost:8080/",
          "height": 376
        },
        "id": "4TEFJzOuIqQS",
        "outputId": "361aba97-0fe2-4409-ef91-038b27daee55"
      },
      "execution_count": 165,
      "outputs": [
        {
          "output_type": "display_data",
          "data": {
            "text/plain": [
              "<Figure size 576x396 with 1 Axes>"
            ],
            "image/png": "[encoded data removed]"
          },
          "metadata": {}
        }
      ]
    },
    {
      "cell_type": "markdown",
      "source": [
        "<a name = Section4.3></a>\n",
        "### **4.3. RandomForest Classifier**"
      ],
      "metadata": {
        "id": "634s60ioKDZv"
      }
    },
    {
      "cell_type": "code",
      "source": [
        "rf = RandomForestClassifier(n_estimators=100,max_depth=7,n_jobs=-1)\n",
        "rf.fit(x_train,y_train)\n",
        "y_rf_train_pred = rf.predict(x_train)\n",
        "y_rf_test_pred = rf.predict(x_test)"
      ],
      "metadata": {
        "id": "p4xjNkiaKDEI"
      },
      "execution_count": 166,
      "outputs": []
    },
    {
      "cell_type": "code",
      "source": [
        "model_eval(y_train,y_rf_train_pred)"
      ],
      "metadata": {
        "colab": {
          "base_uri": "https://localhost:8080/"
        },
        "id": "9nHGNsUWH6rK",
        "outputId": "d27382cf-7a3b-4cf7-9a84-bacb8e793e4f"
      },
      "execution_count": 167,
      "outputs": [
        {
          "output_type": "stream",
          "name": "stdout",
          "text": [
            "The accuracy of the model is :  0.9976275207591934\n",
            "[[261   0]\n",
            " [  2 580]]\n",
            "              precision    recall  f1-score   support\n",
            "\n",
            "           0       0.99      1.00      1.00       261\n",
            "           1       1.00      1.00      1.00       582\n",
            "\n",
            "    accuracy                           1.00       843\n",
            "   macro avg       1.00      1.00      1.00       843\n",
            "weighted avg       1.00      1.00      1.00       843\n",
            "\n"
          ]
        }
      ]
    },
    {
      "cell_type": "code",
      "source": [
        "model_eval(y_test,y_rf_test_pred)"
      ],
      "metadata": {
        "colab": {
          "base_uri": "https://localhost:8080/"
        },
        "id": "-uEehmCBMFH2",
        "outputId": "f64ae869-a87a-464c-bd31-48ce938b1228"
      },
      "execution_count": 168,
      "outputs": [
        {
          "output_type": "stream",
          "name": "stdout",
          "text": [
            "The accuracy of the model is :  0.9715639810426541\n",
            "[[ 60   5]\n",
            " [  1 145]]\n",
            "              precision    recall  f1-score   support\n",
            "\n",
            "           0       0.98      0.92      0.95        65\n",
            "           1       0.97      0.99      0.98       146\n",
            "\n",
            "    accuracy                           0.97       211\n",
            "   macro avg       0.98      0.96      0.97       211\n",
            "weighted avg       0.97      0.97      0.97       211\n",
            "\n"
          ]
        }
      ]
    },
    {
      "cell_type": "code",
      "source": [
        "confus_matrix(rf)"
      ],
      "metadata": {
        "colab": {
          "base_uri": "https://localhost:8080/",
          "height": 468
        },
        "id": "d3INzeuZLlun",
        "outputId": "f37dcb40-e810-4845-d866-0b0f6859deb1"
      },
      "execution_count": 169,
      "outputs": [
        {
          "output_type": "display_data",
          "data": {
            "text/plain": [
              "<Figure size 1080x504 with 4 Axes>"
            ],
            "image/png": "[encoded data removed]"
          },
          "metadata": {}
        }
      ]
    },
    {
      "cell_type": "code",
      "source": [
        "from sklearn import metrics\n",
        "\n",
        "probs = rf.predict_proba(x_test)\n",
        "preds = probs[:,1]\n",
        "fpr, tpr, threshold = metrics.roc_curve(y_test, preds)\n",
        "roc_auc = metrics.auc(fpr, tpr)\n",
        "\n",
        "plt.title('Receiver Operating Characteristic')\n",
        "plt.plot(fpr, tpr, 'b', label = 'AUC = %0.2f' % roc_auc)\n",
        "plt.legend(loc = 'lower right')\n",
        "plt.plot([0, 1], [0, 1],'r--')\n",
        "plt.xlim([0, 1])\n",
        "plt.ylim([0, 1])\n",
        "plt.ylabel('True Positive Rate')\n",
        "plt.xlabel('False Positive Rate')\n",
        "plt.show()"
      ],
      "metadata": {
        "colab": {
          "base_uri": "https://localhost:8080/",
          "height": 376
        },
        "id": "P6uyPjKPKxkB",
        "outputId": "bfa16395-d20a-444b-9edc-37b223222c9d"
      },
      "execution_count": 170,
      "outputs": [
        {
          "output_type": "display_data",
          "data": {
            "text/plain": [
              "<Figure size 576x396 with 1 Axes>"
            ],
            "image/png": "[encoded data removed]"
          },
          "metadata": {}
        }
      ]
    },
    {
      "cell_type": "markdown",
      "source": [
        "<a name = Section4.4></a>\n",
        "### **4.4. Decision Tree Classifier**"
      ],
      "metadata": {
        "id": "7CTlSJXeWy0d"
      }
    },
    {
      "cell_type": "code",
      "source": [
        "dtree = DecisionTreeClassifier()\n",
        "dtree.fit(x_train,y_train)\n",
        "preds_dtree_train = dtree.predict(x_train)\n",
        "preds_dtree_test = dtree.predict(x_test)"
      ],
      "metadata": {
        "id": "3Mv6-kheeprC"
      },
      "execution_count": 171,
      "outputs": []
    },
    {
      "cell_type": "code",
      "source": [
        "model_eval(y_train,preds_dtree_train)"
      ],
      "metadata": {
        "colab": {
          "base_uri": "https://localhost:8080/"
        },
        "id": "XKa9uFUee2XC",
        "outputId": "55b79abf-5442-4c30-bb81-4e5fd4d76161"
      },
      "execution_count": 172,
      "outputs": [
        {
          "output_type": "stream",
          "name": "stdout",
          "text": [
            "The accuracy of the model is :  1.0\n",
            "[[261   0]\n",
            " [  0 582]]\n",
            "              precision    recall  f1-score   support\n",
            "\n",
            "           0       1.00      1.00      1.00       261\n",
            "           1       1.00      1.00      1.00       582\n",
            "\n",
            "    accuracy                           1.00       843\n",
            "   macro avg       1.00      1.00      1.00       843\n",
            "weighted avg       1.00      1.00      1.00       843\n",
            "\n"
          ]
        }
      ]
    },
    {
      "cell_type": "code",
      "source": [
        "model_eval(y_test,preds_dtree_test)"
      ],
      "metadata": {
        "colab": {
          "base_uri": "https://localhost:8080/"
        },
        "id": "P-LOkbYterHo",
        "outputId": "75fd52d1-d399-4ae7-90e2-4f40365dd063"
      },
      "execution_count": 173,
      "outputs": [
        {
          "output_type": "stream",
          "name": "stdout",
          "text": [
            "The accuracy of the model is :  0.943127962085308\n",
            "[[ 59   6]\n",
            " [  6 140]]\n",
            "              precision    recall  f1-score   support\n",
            "\n",
            "           0       0.91      0.91      0.91        65\n",
            "           1       0.96      0.96      0.96       146\n",
            "\n",
            "    accuracy                           0.94       211\n",
            "   macro avg       0.93      0.93      0.93       211\n",
            "weighted avg       0.94      0.94      0.94       211\n",
            "\n"
          ]
        }
      ]
    },
    {
      "cell_type": "markdown",
      "source": [
        "<a name = Section4.5</a>\n",
        "### **4.5. Naive Bayes**"
      ],
      "metadata": {
        "id": "ACMT_ej4cG1G"
      }
    },
    {
      "cell_type": "code",
      "source": [
        "naive = GaussianNB()\n",
        "naive.fit(x_train, y_train)\n",
        "\n",
        "y_train_pred_count = naive.predict(x_train)\n",
        "y_test_pred_count = naive.predict(x_test)\n",
        "\n",
        "y_train_pred_proba = naive.predict_proba(x_train)\n",
        "y_test_pred_proba = naive.predict_proba(x_test)\n",
        "\n",
        "fig, (ax1, ax2) = plt.subplots(nrows = 1, ncols = 2, sharex = False, figsize=(15, 7))\n",
        "plot_confusion_matrix(estimator = naive, X = x_train, y_true = y_train, values_format = '.7g', cmap = 'YlGnBu', ax = ax1)\n",
        "plot_confusion_matrix(estimator = naive, X = x_test, y_true = y_test, values_format = '.7g', cmap = 'YlGnBu', ax = ax2)\n",
        "ax1.set_title(label = 'Train Data', size = 14)\n",
        "ax2.set_title(label = 'Test Data', size = 14)\n",
        "ax1.grid(b = False)\n",
        "ax2.grid(b = False)\n",
        "plt.suptitle(t = 'Confusion Matrix', size = 16)\n",
        "plt.show()"
      ],
      "metadata": {
        "colab": {
          "base_uri": "https://localhost:8080/",
          "height": 0
        },
        "id": "xKvlB2KGcMmF",
        "outputId": "ed22087a-c2f1-490c-c1da-5933f3a17645"
      },
      "execution_count": 174,
      "outputs": [
        {
          "output_type": "display_data",
          "data": {
            "text/plain": [
              "<Figure size 1080x504 with 4 Axes>"
            ],
            "image/png": "[encoded data removed]"
          },
          "metadata": {}
        }
      ]
    },
    {
      "cell_type": "code",
      "source": [
        "model_eval(y_test,y_test_pred_count)"
      ],
      "metadata": {
        "colab": {
          "base_uri": "https://localhost:8080/"
        },
        "id": "iuxX_yY9cYin",
        "outputId": "dbcf41d8-b285-4008-d677-8347c1a75495"
      },
      "execution_count": 175,
      "outputs": [
        {
          "output_type": "stream",
          "name": "stdout",
          "text": [
            "The accuracy of the model is :  0.95260663507109\n",
            "[[ 62   3]\n",
            " [  7 139]]\n",
            "              precision    recall  f1-score   support\n",
            "\n",
            "           0       0.90      0.95      0.93        65\n",
            "           1       0.98      0.95      0.97       146\n",
            "\n",
            "    accuracy                           0.95       211\n",
            "   macro avg       0.94      0.95      0.95       211\n",
            "weighted avg       0.95      0.95      0.95       211\n",
            "\n"
          ]
        }
      ]
    },
    {
      "cell_type": "markdown",
      "source": [
        "<a name = Section4.6></a>\n",
        "### **4.6 Ada boosting**"
      ],
      "metadata": {
        "id": "-d5tzymeWt91"
      }
    },
    {
      "cell_type": "code",
      "source": [
        "ada = AdaBoostClassifier()\n",
        "ada.fit(x_train, y_train)\n",
        "preds_ada_train = ada.predict(x_train)\n",
        "preds_ada_test = ada.predict(x_test)\n",
        "print(\"Model evaluating for Test Data : \\n\")\n",
        "print('------------------------------------------------------')\n",
        "print(model_eval(y_test,preds_ada_test))\n",
        "print('------------------------------------------------------')\n",
        "print(\"Model evaluating for Train Data : \\n\")\n",
        "print('------------------------------------------------------')\n",
        "print(model_eval(y_train,preds_ada_train))"
      ],
      "metadata": {
        "colab": {
          "base_uri": "https://localhost:8080/"
        },
        "id": "e62zG_EoagDs",
        "outputId": "377375d7-7f64-425b-f6d5-7718d52a28a0"
      },
      "execution_count": 176,
      "outputs": [
        {
          "output_type": "stream",
          "name": "stdout",
          "text": [
            "Model evaluating for Test Data : \n",
            "\n",
            "------------------------------------------------------\n",
            "The accuracy of the model is :  1.0\n",
            "[[ 65   0]\n",
            " [  0 146]]\n",
            "              precision    recall  f1-score   support\n",
            "\n",
            "           0       1.00      1.00      1.00        65\n",
            "           1       1.00      1.00      1.00       146\n",
            "\n",
            "    accuracy                           1.00       211\n",
            "   macro avg       1.00      1.00      1.00       211\n",
            "weighted avg       1.00      1.00      1.00       211\n",
            "\n",
            "None\n",
            "------------------------------------------------------\n",
            "Model evaluating for Train Data : \n",
            "\n",
            "------------------------------------------------------\n",
            "The accuracy of the model is :  1.0\n",
            "[[261   0]\n",
            " [  0 582]]\n",
            "              precision    recall  f1-score   support\n",
            "\n",
            "           0       1.00      1.00      1.00       261\n",
            "           1       1.00      1.00      1.00       582\n",
            "\n",
            "    accuracy                           1.00       843\n",
            "   macro avg       1.00      1.00      1.00       843\n",
            "weighted avg       1.00      1.00      1.00       843\n",
            "\n",
            "None\n"
          ]
        }
      ]
    },
    {
      "cell_type": "markdown",
      "source": [
        "<a name = Section4.7></a>\n",
        "### **4.7 XG Boost Classifier**"
      ],
      "metadata": {
        "id": "GNjzbpsUW5LL"
      }
    },
    {
      "cell_type": "code",
      "source": [
        "xgb = XGBClassifier()\n",
        "xgb.fit(x_train, y_train)\n",
        "preds_xgb_train = xgb.predict(x_train)\n",
        "preds_xgb_test = xgb.predict(x_test)\n",
        "print(\"Model evaluating for Test Data : \\n\")\n",
        "print('------------------------------------------------------')\n",
        "print(model_eval(y_test,preds_xgb_test))\n",
        "print('------------------------------------------------------')\n",
        "print(\"Model evaluating for Train Data : \\n\")\n",
        "print('------------------------------------------------------')\n",
        "print(model_eval(y_train,preds_xgb_train))"
      ],
      "metadata": {
        "colab": {
          "base_uri": "https://localhost:8080/"
        },
        "id": "JE5sa1WCW2kQ",
        "outputId": "8d172140-da45-4f69-cfee-4c2059f4bc1d"
      },
      "execution_count": 177,
      "outputs": [
        {
          "output_type": "stream",
          "name": "stdout",
          "text": [
            "Model evaluating for Test Data : \n",
            "\n",
            "------------------------------------------------------\n",
            "The accuracy of the model is :  0.990521327014218\n",
            "[[ 64   1]\n",
            " [  1 145]]\n",
            "              precision    recall  f1-score   support\n",
            "\n",
            "           0       0.98      0.98      0.98        65\n",
            "           1       0.99      0.99      0.99       146\n",
            "\n",
            "    accuracy                           0.99       211\n",
            "   macro avg       0.99      0.99      0.99       211\n",
            "weighted avg       0.99      0.99      0.99       211\n",
            "\n",
            "None\n",
            "------------------------------------------------------\n",
            "Model evaluating for Train Data : \n",
            "\n",
            "------------------------------------------------------\n",
            "The accuracy of the model is :  1.0\n",
            "[[261   0]\n",
            " [  0 582]]\n",
            "              precision    recall  f1-score   support\n",
            "\n",
            "           0       1.00      1.00      1.00       261\n",
            "           1       1.00      1.00      1.00       582\n",
            "\n",
            "    accuracy                           1.00       843\n",
            "   macro avg       1.00      1.00      1.00       843\n",
            "weighted avg       1.00      1.00      1.00       843\n",
            "\n",
            "None\n"
          ]
        }
      ]
    },
    {
      "cell_type": "code",
      "source": [],
      "metadata": {
        "id": "UKHoVaO5Wq4B"
      },
      "execution_count": 177,
      "outputs": []
    },
    {
      "cell_type": "markdown",
      "source": [
        "<a name = Section4.8></a>\n",
        "### **4.8 GradientBoostingClassifier**"
      ],
      "metadata": {
        "id": "YbgiVglOfk9-"
      }
    },
    {
      "cell_type": "code",
      "source": [
        "gbc = GradientBoostingClassifier(n_estimators=100,max_depth=7)\n",
        "gbc.fit(x_train, y_train)\n",
        "preds_gbc_train = gbc.predict(x_train)\n",
        "preds_gbc_test = gbc.predict(x_test)\n",
        "print(\"Model evaluating for Test Data : \\n\")\n",
        "print('------------------------------------------------------')\n",
        "print(model_eval(y_test,preds_gbc_test))\n",
        "print('------------------------------------------------------')\n",
        "print(\"Model evaluating for Train Data : \\n\")\n",
        "print('------------------------------------------------------')\n",
        "print(model_eval(y_train,preds_gbc_train))"
      ],
      "metadata": {
        "colab": {
          "base_uri": "https://localhost:8080/"
        },
        "id": "kVEJzyf3gyM2",
        "outputId": "ed8badab-a09e-4552-b126-ca7be562c044"
      },
      "execution_count": 178,
      "outputs": [
        {
          "output_type": "stream",
          "name": "stdout",
          "text": [
            "Model evaluating for Test Data : \n",
            "\n",
            "------------------------------------------------------\n",
            "The accuracy of the model is :  0.9620853080568721\n",
            "[[ 61   4]\n",
            " [  4 142]]\n",
            "              precision    recall  f1-score   support\n",
            "\n",
            "           0       0.94      0.94      0.94        65\n",
            "           1       0.97      0.97      0.97       146\n",
            "\n",
            "    accuracy                           0.96       211\n",
            "   macro avg       0.96      0.96      0.96       211\n",
            "weighted avg       0.96      0.96      0.96       211\n",
            "\n",
            "None\n",
            "------------------------------------------------------\n",
            "Model evaluating for Train Data : \n",
            "\n",
            "------------------------------------------------------\n",
            "The accuracy of the model is :  1.0\n",
            "[[261   0]\n",
            " [  0 582]]\n",
            "              precision    recall  f1-score   support\n",
            "\n",
            "           0       1.00      1.00      1.00       261\n",
            "           1       1.00      1.00      1.00       582\n",
            "\n",
            "    accuracy                           1.00       843\n",
            "   macro avg       1.00      1.00      1.00       843\n",
            "weighted avg       1.00      1.00      1.00       843\n",
            "\n",
            "None\n"
          ]
        }
      ]
    },
    {
      "cell_type": "markdown",
      "source": [
        "\n",
        "<a name = Section5></a>\n",
        "# **5. Hyperparameter Tuning** "
      ],
      "metadata": {
        "id": "ftUt4P5tT-LH"
      }
    },
    {
      "cell_type": "markdown",
      "source": [
        "<a name = Section5.1></a>\n",
        "### **5.1 RandomizedSearchCV With RandomForest**"
      ],
      "metadata": {
        "id": "G-hUpHsxLv5i"
      }
    },
    {
      "cell_type": "code",
      "source": [
        "params = {\n",
        "    'max_depth':[5,10,20,30],\n",
        "    'max_leaf_nodes':[16,32,64,128],\n",
        "    'min_samples_leaf':[10,20,30,40,60,80]\n",
        "}\n",
        "rf_search_cv = RandomizedSearchCV(estimator=RandomForestClassifier(n_jobs=-1,random_state=42,\n",
        "                                                                 class_weight='balanced'),\n",
        "                                param_distributions=params,\n",
        "                                 n_jobs = -1,\n",
        "                                 random_state=42,\n",
        "                                 scoring='roc_auc'\n",
        "                                )\n",
        "rf_search_cv.fit(x_train,y_train)"
      ],
      "metadata": {
        "colab": {
          "base_uri": "https://localhost:8080/"
        },
        "id": "APoCWt0XLt5h",
        "outputId": "bf394737-39dc-4ee8-8bc6-81c2b8e9c5d6"
      },
      "execution_count": 179,
      "outputs": [
        {
          "output_type": "execute_result",
          "data": {
            "text/plain": [
              "RandomizedSearchCV(estimator=RandomForestClassifier(class_weight='balanced',\n",
              "                                                    n_jobs=-1,\n",
              "                                                    random_state=42),\n",
              "                   n_jobs=-1,\n",
              "                   param_distributions={'max_depth': [5, 10, 20, 30],\n",
              "                                        'max_leaf_nodes': [16, 32, 64, 128],\n",
              "                                        'min_samples_leaf': [10, 20, 30, 40, 60,\n",
              "                                                             80]},\n",
              "                   random_state=42, scoring='roc_auc')"
            ]
          },
          "metadata": {},
          "execution_count": 179
        }
      ]
    },
    {
      "cell_type": "code",
      "source": [
        "y_rscv_train_pred = rf_search_cv.predict(x_train)\n",
        "y_rscv_test_pred = rf_search_cv.predict(x_test)"
      ],
      "metadata": {
        "id": "RZ5vwYjIM7hK"
      },
      "execution_count": 180,
      "outputs": []
    },
    {
      "cell_type": "code",
      "source": [
        "model_eval(y_test,y_rscv_test_pred)"
      ],
      "metadata": {
        "colab": {
          "base_uri": "https://localhost:8080/"
        },
        "id": "QXL0cdMkNIbU",
        "outputId": "35ef1934-36c7-43c7-c156-4fe10e5f31a5"
      },
      "execution_count": 181,
      "outputs": [
        {
          "output_type": "stream",
          "name": "stdout",
          "text": [
            "The accuracy of the model is :  0.9478672985781991\n",
            "[[ 64   1]\n",
            " [ 10 136]]\n",
            "              precision    recall  f1-score   support\n",
            "\n",
            "           0       0.86      0.98      0.92        65\n",
            "           1       0.99      0.93      0.96       146\n",
            "\n",
            "    accuracy                           0.95       211\n",
            "   macro avg       0.93      0.96      0.94       211\n",
            "weighted avg       0.95      0.95      0.95       211\n",
            "\n"
          ]
        }
      ]
    },
    {
      "cell_type": "code",
      "source": [
        "confus_matrix(rf_search_cv)"
      ],
      "metadata": {
        "colab": {
          "base_uri": "https://localhost:8080/",
          "height": 0
        },
        "id": "1xsFZxShNmQY",
        "outputId": "d75d8ce8-b876-4249-a5cc-2671476f632e"
      },
      "execution_count": 182,
      "outputs": [
        {
          "output_type": "display_data",
          "data": {
            "text/plain": [
              "<Figure size 1080x504 with 4 Axes>"
            ],
            "image/png": "[encoded data removed]"
          },
          "metadata": {}
        }
      ]
    },
    {
      "cell_type": "code",
      "source": [
        "from sklearn import metrics\n",
        "\n",
        "probs = rf_search_cv.predict_proba(x_test)\n",
        "preds = probs[:,1]\n",
        "fpr, tpr, threshold = metrics.roc_curve(y_test, preds)\n",
        "roc_auc = metrics.auc(fpr, tpr)\n",
        "\n",
        "plt.title('Receiver Operating Characteristic')\n",
        "plt.plot(fpr, tpr, 'b', label = 'AUC = %0.2f' % roc_auc)\n",
        "plt.legend(loc = 'lower right')\n",
        "plt.plot([0, 1], [0, 1],'r--')\n",
        "plt.xlim([0, 1])\n",
        "plt.ylim([0, 1])\n",
        "plt.ylabel('True Positive Rate')\n",
        "plt.xlabel('False Positive Rate')\n",
        "plt.show()\n"
      ],
      "metadata": {
        "colab": {
          "base_uri": "https://localhost:8080/",
          "height": 0
        },
        "id": "7MIM0L55Liqv",
        "outputId": "13dc7e9f-0df0-468b-ca33-35699536aa24"
      },
      "execution_count": 183,
      "outputs": [
        {
          "output_type": "display_data",
          "data": {
            "text/plain": [
              "<Figure size 576x396 with 1 Axes>"
            ],
            "image/png": "[encoded data removed]"
          },
          "metadata": {}
        }
      ]
    },
    {
      "cell_type": "markdown",
      "source": [
        "<a name = Section5.2></a>\n",
        "### **5.2 GridSearchCV with Decision Tree Classifier**"
      ],
      "metadata": {
        "id": "5K-57Zn7XKr-"
      }
    },
    {
      "cell_type": "code",
      "source": [
        "param_gcv = {'max_depth': [4,8,10],'min_samples_split': [2,5,10],'min_samples_leaf': [1,2,4]}\n",
        "\n",
        "gcv = GridSearchCV(estimator = dtree,param_grid = param_gcv,cv = 5)\n",
        "\n",
        "gcv.fit(x_train, y_train)\n",
        "\n",
        "# Predicting training and testing labels\n",
        "preds_gcv_train = gcv.predict(x_train)\n",
        "preds_gcv_test = gcv.predict(x_test)\n",
        "print(\"Model evaluating for Test Data : \\n\")\n",
        "print('------------------------------------------------------')\n",
        "print(model_eval(y_test,preds_gcv_test))\n",
        "print('------------------------------------------------------')\n",
        "print(\"Model evaluating for Train Data : \\n\")\n",
        "print('------------------------------------------------------')\n",
        "print(model_eval(y_train,preds_gcv_train))"
      ],
      "metadata": {
        "colab": {
          "base_uri": "https://localhost:8080/"
        },
        "id": "utCsZr05Xci9",
        "outputId": "ece26ee4-2081-4934-a749-00a85190ec5c"
      },
      "execution_count": 184,
      "outputs": [
        {
          "output_type": "stream",
          "name": "stdout",
          "text": [
            "Model evaluating for Test Data : \n",
            "\n",
            "------------------------------------------------------\n",
            "The accuracy of the model is :  0.9383886255924171\n",
            "[[ 60   5]\n",
            " [  8 138]]\n",
            "              precision    recall  f1-score   support\n",
            "\n",
            "           0       0.88      0.92      0.90        65\n",
            "           1       0.97      0.95      0.96       146\n",
            "\n",
            "    accuracy                           0.94       211\n",
            "   macro avg       0.92      0.93      0.93       211\n",
            "weighted avg       0.94      0.94      0.94       211\n",
            "\n",
            "None\n",
            "------------------------------------------------------\n",
            "Model evaluating for Train Data : \n",
            "\n",
            "------------------------------------------------------\n",
            "The accuracy of the model is :  0.9584816132858838\n",
            "[[249  12]\n",
            " [ 23 559]]\n",
            "              precision    recall  f1-score   support\n",
            "\n",
            "           0       0.92      0.95      0.93       261\n",
            "           1       0.98      0.96      0.97       582\n",
            "\n",
            "    accuracy                           0.96       843\n",
            "   macro avg       0.95      0.96      0.95       843\n",
            "weighted avg       0.96      0.96      0.96       843\n",
            "\n",
            "None\n"
          ]
        }
      ]
    },
    {
      "cell_type": "code",
      "source": [],
      "metadata": {
        "id": "F6cQpq7DXcfz"
      },
      "execution_count": 184,
      "outputs": []
    },
    {
      "cell_type": "markdown",
      "source": [
        "<a name = Section6></a>\n",
        "# **6. Tune Model With Cross Validation**"
      ],
      "metadata": {
        "id": "BDe0enOOXejh"
      }
    },
    {
      "cell_type": "markdown",
      "source": [
        "<a name = Section61></a>\n",
        "### **6.1 Logistic Regression**"
      ],
      "metadata": {
        "id": "P3F2hz4FXvj1"
      }
    },
    {
      "cell_type": "code",
      "source": [
        "from sklearn import model_selection\n",
        "kfold = model_selection.KFold(n_splits=10,shuffle=True,random_state=2)\n",
        "modelLR = LogisticRegression()\n",
        "results = model_selection.cross_val_score(modelLR, x_train, y_train, cv=kfold, scoring='accuracy')\n",
        "print(\"10-fold cross validation average Accuracy score for Logistic Regression: %.3f\" % (results.mean()))"
      ],
      "metadata": {
        "colab": {
          "base_uri": "https://localhost:8080/"
        },
        "id": "bf0G_jEQYED9",
        "outputId": "08450ab7-61e3-4d97-f6f1-f7ed97efd319"
      },
      "execution_count": 185,
      "outputs": [
        {
          "output_type": "stream",
          "name": "stdout",
          "text": [
            "10-fold cross validation average Accuracy score for Logistic Regression: 1.000\n"
          ]
        }
      ]
    },
    {
      "cell_type": "markdown",
      "source": [
        "<a name = Section6.2></a>\n",
        "### **6.2 Ada boosting**"
      ],
      "metadata": {
        "id": "QpBnnwIdXvgV"
      }
    },
    {
      "cell_type": "code",
      "source": [
        "score = []\n",
        "for depth in [1,2,10] : \n",
        "    reg_ada = AdaBoostClassifier(DecisionTreeClassifier(max_depth=depth))\n",
        "    scores_ada = model_selection.cross_val_score(reg_ada, x, y, cv=10)\n",
        "    score.append(scores_ada.mean())\n",
        "print(score)"
      ],
      "metadata": {
        "colab": {
          "base_uri": "https://localhost:8080/"
        },
        "id": "hSY-rIDOYZVW",
        "outputId": "02e9e4a2-2292-4e57-f067-01c5f6cd4d69"
      },
      "execution_count": 186,
      "outputs": [
        {
          "output_type": "stream",
          "name": "stdout",
          "text": [
            "[1.0, 0.9536657681940701, 0.8938274932614556]\n"
          ]
        }
      ]
    },
    {
      "cell_type": "markdown",
      "source": [
        "<a name = Section6.3></a>\n",
        "### **6.3 GradientBoosting**"
      ],
      "metadata": {
        "id": "9jZOqeusixQi"
      }
    },
    {
      "cell_type": "code",
      "source": [
        "from sklearn.model_selection import KFold\n",
        "from sklearn.metrics import make_scorer\n",
        "\n",
        "scoring = {'accuracy' : make_scorer(accuracy_score), \n",
        "           'precision' : make_scorer(precision_score),\n",
        "           'recall' : make_scorer(recall_score), \n",
        "           'f1_score' : make_scorer(f1_score)}\n",
        "model_gb = GradientBoostingClassifier(n_estimators=50, random_state=1, learning_rate = 0.10) \n",
        "\n",
        "results_gb = model_selection.cross_validate(model_gb, x,y, cv=10, scoring=scoring)"
      ],
      "metadata": {
        "id": "C4ojIm2Zflgd"
      },
      "execution_count": 187,
      "outputs": []
    },
    {
      "cell_type": "code",
      "source": [
        "results_gb_df=pd.DataFrame.from_dict(results_gb)\n",
        "results_gb_df.mean()"
      ],
      "metadata": {
        "colab": {
          "base_uri": "https://localhost:8080/"
        },
        "id": "oeuxwArefpfk",
        "outputId": "06d6a0d5-3e19-4c52-c0c2-d66a794e2ad5"
      },
      "execution_count": 188,
      "outputs": [
        {
          "output_type": "execute_result",
          "data": {
            "text/plain": [
              "fit_time          0.089979\n",
              "score_time        0.005349\n",
              "test_accuracy     0.951707\n",
              "test_precision    0.966757\n",
              "test_recall       0.964346\n",
              "test_f1_score     0.963809\n",
              "dtype: float64"
            ]
          },
          "metadata": {},
          "execution_count": 188
        }
      ]
    },
    {
      "cell_type": "markdown",
      "source": [
        "<a name = Section6.4></a>\n",
        "### **6.4 XGboost classifier**"
      ],
      "metadata": {
        "id": "TAsloiOfXvdn"
      }
    },
    {
      "cell_type": "code",
      "source": [
        "kfold = KFold(n_splits=10)\n",
        "XGB_cv = XGBClassifier(n_estimators=100, random_state=1, learning_rate = 0.1)\n",
        "results_xgb = model_selection.cross_val_score(XGB_cv, x, y, cv=kfold)\n",
        "\n",
        "print('test accuracy: ',results_xgb.mean())"
      ],
      "metadata": {
        "colab": {
          "base_uri": "https://localhost:8080/"
        },
        "id": "YbnUy_VZk8b1",
        "outputId": "908a7138-8e1b-48bb-aed7-85e47aaa793c"
      },
      "execution_count": 189,
      "outputs": [
        {
          "output_type": "stream",
          "name": "stdout",
          "text": [
            "test accuracy:  0.9781940700808626\n"
          ]
        }
      ]
    },
    {
      "cell_type": "markdown",
      "source": [],
      "metadata": {
        "id": "VtQPCPctXvaz"
      }
    },
    {
      "cell_type": "code",
      "source": [],
      "metadata": {
        "id": "N_MStKoYXq64"
      },
      "execution_count": 189,
      "outputs": []
    },
    {
      "cell_type": "code",
      "source": [],
      "metadata": {
        "id": "V1VZz97cXq3p"
      },
      "execution_count": 189,
      "outputs": []
    },
    {
      "cell_type": "markdown",
      "source": [
        "<a name = Section7></a>\n",
        "# **7. Selecting Best Model**"
      ],
      "metadata": {
        "id": "RB0fJznKUawi"
      }
    },
    {
      "cell_type": "code",
      "source": [
        "model_dict = {'Logistic Model':[accuracy_score(y_test,y_lr_test_pred),f1_score(y_test,y_lr_test_pred),precision_score(y_test,y_lr_test_pred),recall_score(y_test,y_lr_test_pred)],\n",
        "            'RandomizedSearchCV(RF)' : [accuracy_score(y_test,y_rscv_test_pred),f1_score(y_test,y_rscv_test_pred),precision_score(y_test,y_rscv_test_pred),recall_score(y_test,y_rscv_test_pred)],\n",
        "            'Gradient Boost Model':[accuracy_score(y_test,preds_gbc_test), f1_score(y_test,preds_gbc_test),precision_score(y_test,preds_gbc_test),recall_score(y_test,preds_gbc_test)],\n",
        "            'RandomForest Model':[accuracy_score(y_test,y_rf_test_pred), f1_score(y_test,y_rf_test_pred),precision_score(y_test,y_rf_test_pred),recall_score(y_test,y_rf_test_pred)],\n",
        "            'Ada Boost Model':[accuracy_score(y_test,preds_ada_test), f1_score(y_test,preds_ada_test),precision_score(y_test,preds_ada_test),recall_score(y_test,preds_ada_test)],\n",
        "            'DecisionTree Model':[accuracy_score(y_test,preds_dtree_test), f1_score(y_test,preds_dtree_test),precision_score(y_test,preds_dtree_test),recall_score(y_test,preds_dtree_test)],\n",
        "            'XGBoost Model':[accuracy_score(y_test,preds_xgb_test), f1_score(y_test,preds_xgb_test),precision_score(y_test,preds_xgb_test),recall_score(y_test,preds_xgb_test)],\n",
        "            'Naive Bayes Model':[accuracy_score(y_test,y_test_pred_count), f1_score(y_test,y_test_pred_count),precision_score(y_test,y_test_pred_count),recall_score(y_test,y_test_pred_count)],\n",
        "            'GridsearchCV Model(DT)':[accuracy_score(y_test,preds_gcv_test), f1_score(y_test,preds_gcv_test),precision_score(y_test,preds_gcv_test),recall_score(y_test,preds_gcv_test)]\n",
        "                                                                                                                                    \n",
        "}"
      ],
      "metadata": {
        "id": "sF16zcXJMwND"
      },
      "execution_count": 190,
      "outputs": []
    },
    {
      "cell_type": "code",
      "source": [
        "best_model = pd.DataFrame(model_dict, index=['Accuracy','F1','Precision','Recall'] ).T\n",
        "print(\" Model Comparision- On Test Data\")\n",
        "print(\"-------------------------------------------------\")\n",
        "best_model.round(2)*100"
      ],
      "metadata": {
        "colab": {
          "base_uri": "https://localhost:8080/",
          "height": 366
        },
        "id": "Pt24JUTkM0-S",
        "outputId": "7cb45b7a-4a2c-41b7-9531-b7546852f0fb"
      },
      "execution_count": 191,
      "outputs": [
        {
          "output_type": "stream",
          "name": "stdout",
          "text": [
            " Model Comparision- On Test Data\n",
            "-------------------------------------------------\n"
          ]
        },
        {
          "output_type": "execute_result",
          "data": {
            "text/plain": [
              "                        Accuracy     F1  Precision  Recall\n",
              "Logistic Model             100.0  100.0      100.0   100.0\n",
              "RandomizedSearchCV(RF)      95.0   96.0       99.0    93.0\n",
              "Gradient Boost Model        96.0   97.0       97.0    97.0\n",
              "RandomForest Model          97.0   98.0       97.0    99.0\n",
              "Ada Boost Model            100.0  100.0      100.0   100.0\n",
              "DecisionTree Model          94.0   96.0       96.0    96.0\n",
              "XGBoost Model               99.0   99.0       99.0    99.0\n",
              "Naive Bayes Model           95.0   97.0       98.0    95.0\n",
              "GridsearchCV Model(DT)      94.0   96.0       97.0    95.0"
            ],
            "text/html": [
              "\n",
              "  <div id=\"df-c1a616be-537b-46f6-994b-9326aa485160\">\n",
              "    <div class=\"colab-df-container\">\n",
              "      <div>\n",
              "<style scoped>\n",
              "    .dataframe tbody tr th:only-of-type {\n",
              "        vertical-align: middle;\n",
              "    }\n",
              "\n",
              "    .dataframe tbody tr th {\n",
              "        vertical-align: top;\n",
              "    }\n",
              "\n",
              "    .dataframe thead th {\n",
              "        text-align: right;\n",
              "    }\n",
              "</style>\n",
              "<table border=\"1\" class=\"dataframe\">\n",
              "  <thead>\n",
              "    <tr style=\"text-align: right;\">\n",
              "      <th></th>\n",
              "      <th>Accuracy</th>\n",
              "      <th>F1</th>\n",
              "      <th>Precision</th>\n",
              "      <th>Recall</th>\n",
              "    </tr>\n",
              "  </thead>\n",
              "  <tbody>\n",
              "    <tr>\n",
              "      <th>Logistic Model</th>\n",
              "      <td>100.0</td>\n",
              "      <td>100.0</td>\n",
              "      <td>100.0</td>\n",
              "      <td>100.0</td>\n",
              "    </tr>\n",
              "    <tr>\n",
              "      <th>RandomizedSearchCV(RF)</th>\n",
              "      <td>95.0</td>\n",
              "      <td>96.0</td>\n",
              "      <td>99.0</td>\n",
              "      <td>93.0</td>\n",
              "    </tr>\n",
              "    <tr>\n",
              "      <th>Gradient Boost Model</th>\n",
              "      <td>96.0</td>\n",
              "      <td>97.0</td>\n",
              "      <td>97.0</td>\n",
              "      <td>97.0</td>\n",
              "    </tr>\n",
              "    <tr>\n",
              "      <th>RandomForest Model</th>\n",
              "      <td>97.0</td>\n",
              "      <td>98.0</td>\n",
              "      <td>97.0</td>\n",
              "      <td>99.0</td>\n",
              "    </tr>\n",
              "    <tr>\n",
              "      <th>Ada Boost Model</th>\n",
              "      <td>100.0</td>\n",
              "      <td>100.0</td>\n",
              "      <td>100.0</td>\n",
              "      <td>100.0</td>\n",
              "    </tr>\n",
              "    <tr>\n",
              "      <th>DecisionTree Model</th>\n",
              "      <td>94.0</td>\n",
              "      <td>96.0</td>\n",
              "      <td>96.0</td>\n",
              "      <td>96.0</td>\n",
              "    </tr>\n",
              "    <tr>\n",
              "      <th>XGBoost Model</th>\n",
              "      <td>99.0</td>\n",
              "      <td>99.0</td>\n",
              "      <td>99.0</td>\n",
              "      <td>99.0</td>\n",
              "    </tr>\n",
              "    <tr>\n",
              "      <th>Naive Bayes Model</th>\n",
              "      <td>95.0</td>\n",
              "      <td>97.0</td>\n",
              "      <td>98.0</td>\n",
              "      <td>95.0</td>\n",
              "    </tr>\n",
              "    <tr>\n",
              "      <th>GridsearchCV Model(DT)</th>\n",
              "      <td>94.0</td>\n",
              "      <td>96.0</td>\n",
              "      <td>97.0</td>\n",
              "      <td>95.0</td>\n",
              "    </tr>\n",
              "  </tbody>\n",
              "</table>\n",
              "</div>\n",
              "      <button class=\"colab-df-convert\" onclick=\"convertToInteractive('df-c1a616be-537b-46f6-994b-9326aa485160')\"\n",
              "              title=\"Convert this dataframe to an interactive table.\"\n",
              "              style=\"display:none;\">\n",
              "        \n",
              "  <svg xmlns=\"http://www.w3.org/2000/svg\" height=\"24px\"viewBox=\"0 0 24 24\"\n",
              "       width=\"24px\">\n",
              "    <path d=\"M0 0h24v24H0V0z\" fill=\"none\"/>\n",
              "    <path d=\"M18.56 5.44l.94 2.06.94-2.06 2.06-.94-2.06-.94-.94-2.06-.94 2.06-2.06.94zm-11 1L8.5 8.5l.94-2.06 2.06-.94-2.06-.94L8.5 2.5l-.94 2.06-2.06.94zm10 10l.94 2.06.94-2.06 2.06-.94-2.06-.94-.94-2.06-.94 2.06-2.06.94z\"/><path d=\"M17.41 7.96l-1.37-1.37c-.4-.4-.92-.59-1.43-.59-.52 0-1.04.2-1.43.59L10.3 9.45l-7.72 7.72c-.78.78-.78 2.05 0 2.83L4 21.41c.39.39.9.59 1.41.59.51 0 1.02-.2 1.41-.59l7.78-7.78 2.81-2.81c.8-.78.8-2.07 0-2.86zM5.41 20L4 18.59l7.72-7.72 1.47 1.35L5.41 20z\"/>\n",
              "  </svg>\n",
              "      </button>\n",
              "      \n",
              "  <style>\n",
              "    .colab-df-container {\n",
              "      display:flex;\n",
              "      flex-wrap:wrap;\n",
              "      gap: 12px;\n",
              "    }\n",
              "\n",
              "    .colab-df-convert {\n",
              "      background-color: #E8F0FE;\n",
              "      border: none;\n",
              "      border-radius: 50%;\n",
              "      cursor: pointer;\n",
              "      display: none;\n",
              "      fill: #1967D2;\n",
              "      height: 32px;\n",
              "      padding: 0 0 0 0;\n",
              "      width: 32px;\n",
              "    }\n",
              "\n",
              "    .colab-df-convert:hover {\n",
              "      background-color: #E2EBFA;\n",
              "      box-shadow: 0px 1px 2px rgba(60, 64, 67, 0.3), 0px 1px 3px 1px rgba(60, 64, 67, 0.15);\n",
              "      fill: #174EA6;\n",
              "    }\n",
              "\n",
              "    [theme=dark] .colab-df-convert {\n",
              "      background-color: #3B4455;\n",
              "      fill: #D2E3FC;\n",
              "    }\n",
              "\n",
              "    [theme=dark] .colab-df-convert:hover {\n",
              "      background-color: #434B5C;\n",
              "      box-shadow: 0px 1px 3px 1px rgba(0, 0, 0, 0.15);\n",
              "      filter: drop-shadow(0px 1px 2px rgba(0, 0, 0, 0.3));\n",
              "      fill: #FFFFFF;\n",
              "    }\n",
              "  </style>\n",
              "\n",
              "      <script>\n",
              "        const buttonEl =\n",
              "          document.querySelector('#df-c1a616be-537b-46f6-994b-9326aa485160 button.colab-df-convert');\n",
              "        buttonEl.style.display =\n",
              "          google.colab.kernel.accessAllowed ? 'block' : 'none';\n",
              "\n",
              "        async function convertToInteractive(key) {\n",
              "          const element = document.querySelector('#df-c1a616be-537b-46f6-994b-9326aa485160');\n",
              "          const dataTable =\n",
              "            await google.colab.kernel.invokeFunction('convertToInteractive',\n",
              "                                                     [key], {});\n",
              "          if (!dataTable) return;\n",
              "\n",
              "          const docLinkHtml = 'Like what you see? Visit the ' +\n",
              "            '<a target=\"_blank\" href=https://colab.research.google.com/notebooks/data_table.ipynb>data table notebook</a>'\n",
              "            + ' to learn more about interactive tables.';\n",
              "          element.innerHTML = '';\n",
              "          dataTable['output_type'] = 'display_data';\n",
              "          await google.colab.output.renderOutput(dataTable, element);\n",
              "          const docLink = document.createElement('div');\n",
              "          docLink.innerHTML = docLinkHtml;\n",
              "          element.appendChild(docLink);\n",
              "        }\n",
              "      </script>\n",
              "    </div>\n",
              "  </div>\n",
              "  "
            ]
          },
          "metadata": {},
          "execution_count": 191
        }
      ]
    },
    {
      "cell_type": "markdown",
      "source": [
        "After building diffirent classification models and on comparing, the following conclusions are made for finalizing the best performing model:\n",
        "\n",
        "- Logistic and Ada boosting model gives 100% accuracy & F1 scores\n",
        "\n",
        "- Before removing the Qchat column almost all models gave 100% accurancy , F1 score . But after removing column Qchat-10-Score only Logistic and Ada boosting model gave 100% results. \n",
        "\n",
        "- As the data is imbalanced i.e., the proportion of the target variable \"No\" is much less compared to \"Yes\", the F1 score in this case is most important to be considered.\n",
        "\n",
        "- Further we need to balance the data using different techniques like Oversampling , Undersampling , SMOTE etc..."
      ],
      "metadata": {
        "id": "IajLCXpyshS0"
      }
    },
    {
      "cell_type": "markdown",
      "source": [],
      "metadata": {
        "id": "Bt2s_3AMDC4j"
      }
    }
  ]
}