{
  "nbformat": 4,
  "nbformat_minor": 0,
  "metadata": {
    "colab": {
      "provenance": [],
      "collapsed_sections": [
        "JfPCe_b832lr",
        "q-UlGEL84B95",
        "634s60ioKDZv",
        "7CTlSJXeWy0d",
        "ACMT_ej4cG1G",
        "-d5tzymeWt91",
        "GNjzbpsUW5LL",
        "YbgiVglOfk9-",
        "ftUt4P5tT-LH",
        "G-hUpHsxLv5i",
        "5K-57Zn7XKr-",
        "BDe0enOOXejh",
        "P3F2hz4FXvj1",
        "QpBnnwIdXvgV",
        "9jZOqeusixQi",
        "TAsloiOfXvdn"
      ]
    },
    "kernelspec": {
      "name": "python3",
      "display_name": "Python 3"
    },
    "language_info": {
      "name": "python"
    }
  },
  "cells": [
    {
      "cell_type": "markdown",
      "source": [
        "# <center><b>**Autism _Prediction_Model Building**<center><b>"
      ],
      "metadata": {
        "id": "MD2Onc1aFAh6"
      }
    },
    {
      "cell_type": "markdown",
      "source": [
        "---\n",
        "# **Table of Contents**\n",
        "---\n",
        "**1.** [**Installing & Importing Libraries**](#Section1)<br>\n",
        "**2.** [**Data Acquisition**](#Section2)<br>\n",
        "**3.** [**Feature Scaling**](#Section3)<br>\n",
        "**4.** [**Model Development & Evaluation**](#Section4)<br>\n",
        "\n",
        "   - **4.1** [**Data Preparation**](#Section4.1)<br>\n",
        "   - **4.2** [**LogisticRegression**](#Section4.2)<br>\n",
        "   - **4.3** [**RandomForest Classifier**](#Section4.3)<br>\n",
        "   - **4.4** [**DecisionTree Classifier**](#Section4.4)<br>\n",
        "   - **4.5** [**Navie Bayes**](#Section4.5)<br>\n",
        "   - **4.6** [**Ada Boosting**](#Section4.6)<br>\n",
        "   - **4.7** [**XG Boost Classifier**](#Section4.7)<br>\n",
        "   - **4.8** [**Gradient Bosst Classifier**](#Section4.8)<br>\n",
        "\n",
        "**5** [**Hyperparameter Tuning**](#Section5)<br>\n",
        "   \n",
        "   - **5.1** [**RandomizedSearchCV with RandomforestClassifier**](#Section5.1)<br>\n",
        "   - **5.2** [**GridSearchCV with DecisionTree Classifier**](#Section5.2)<br>\n",
        "\n",
        "**6** [**Tune Model With Cross Validation**](#Section6)<br>\n",
        "  - **6.1** [**LogisticRegression**](#Section6.1)<br>\n",
        "  - **6.2** [**Ada Boosting**](#Section6.2)<br>\n",
        "  - **6.3** [**XG Boost Classifier**](#Section6.3)<br>\n",
        "  - **6.4** [**Gradient Bosst Classifier**](#Section6.4)<br>\n",
        "\n",
        "**7** [**Selecting Best Model**](#Section7)<br>\n"
      ],
      "metadata": {
        "id": "xb9vZZrNrT3T"
      }
    },
    {
      "cell_type": "markdown",
      "source": [
        "<a name = Section1></a>\n",
        "### **1. Installing & Importing Libraries**"
      ],
      "metadata": {
        "id": "JfPCe_b832lr"
      }
    },
    {
      "cell_type": "code",
      "execution_count": 1,
      "metadata": {
        "id": "UZ0VGHlW_Mtd"
      },
      "outputs": [],
      "source": [
        "import pandas as pd \n",
        "import numpy as np\n",
        "import matplotlib.pyplot as plt\n",
        "from sklearn.preprocessing import StandardScaler\n",
        "from sklearn.model_selection import train_test_split,RandomizedSearchCV,GridSearchCV\n",
        "from sklearn.linear_model import LogisticRegression\n",
        "from sklearn.ensemble import RandomForestClassifier,AdaBoostClassifier,GradientBoostingClassifier, StackingClassifier\n",
        "from xgboost import XGBClassifier\n",
        "from sklearn.tree import DecisionTreeClassifier\n",
        "from sklearn.naive_bayes import GaussianNB \n",
        "\n",
        "from sklearn.metrics import accuracy_score,f1_score,classification_report,confusion_matrix,plot_confusion_matrix,roc_curve,precision_score,recall_score\n",
        "from sklearn.metrics import ConfusionMatrixDisplay ,precision_recall_curve,plot_roc_curve\n",
        "import warnings                                                     # Importing warning to disable runtime warnings\n",
        "warnings.filterwarnings(\"ignore\") "
      ]
    },
    {
      "cell_type": "code",
      "source": [],
      "metadata": {
        "id": "8g1MwfMAMcuS"
      },
      "execution_count": 1,
      "outputs": []
    },
    {
      "cell_type": "markdown",
      "source": [
        "<a name = Section2></a>\n",
        "### **2. Data Acquisition**"
      ],
      "metadata": {
        "id": "q-UlGEL84B95"
      }
    },
    {
      "cell_type": "code",
      "source": [
        "df = pd.read_csv('/content/data_csv.csv')\n",
        "df.head(2)"
      ],
      "metadata": {
        "colab": {
          "base_uri": "https://localhost:8080/",
          "height": 292
        },
        "id": "uL76uaqxCUbK",
        "outputId": "768fc24f-a412-4978-ed48-41700f88aafb"
      },
      "execution_count": 2,
      "outputs": [
        {
          "output_type": "execute_result",
          "data": {
            "text/plain": [
              "   CASE_NO_PATIENT'S  A1  A2  A3  A4  A5  A6  A7  A8  A9  ...  \\\n",
              "0                  1   0   0   0   0   0   0   1   1   0  ...   \n",
              "1                  2   1   1   0   0   0   1   1   0   0  ...   \n",
              "\n",
              "   Global developmental delay/intellectual disability  \\\n",
              "0                                                Yes    \n",
              "1                                                Yes    \n",
              "\n",
              "   Social/Behavioural Issues  Childhood Autism Rating Scale  Anxiety_disorder  \\\n",
              "0                        Yes                              1               Yes   \n",
              "1                        Yes                              2               Yes   \n",
              "\n",
              "  Sex       Ethnicity Jaundice Family_mem_with_ASD Who_completed_the_test  \\\n",
              "0   F  middle eastern      Yes                  No          Family Member   \n",
              "1   M  White European      Yes                  No          Family Member   \n",
              "\n",
              "  ASD_traits  \n",
              "0         No  \n",
              "1        Yes  \n",
              "\n",
              "[2 rows x 28 columns]"
            ],
            "text/html": [
              "\n",
              "  <div id=\"df-a2c5a754-0463-47c5-8602-f6ff6daa770a\">\n",
              "    <div class=\"colab-df-container\">\n",
              "      <div>\n",
              "<style scoped>\n",
              "    .dataframe tbody tr th:only-of-type {\n",
              "        vertical-align: middle;\n",
              "    }\n",
              "\n",
              "    .dataframe tbody tr th {\n",
              "        vertical-align: top;\n",
              "    }\n",
              "\n",
              "    .dataframe thead th {\n",
              "        text-align: right;\n",
              "    }\n",
              "</style>\n",
              "<table border=\"1\" class=\"dataframe\">\n",
              "  <thead>\n",
              "    <tr style=\"text-align: right;\">\n",
              "      <th></th>\n",
              "      <th>CASE_NO_PATIENT'S</th>\n",
              "      <th>A1</th>\n",
              "      <th>A2</th>\n",
              "      <th>A3</th>\n",
              "      <th>A4</th>\n",
              "      <th>A5</th>\n",
              "      <th>A6</th>\n",
              "      <th>A7</th>\n",
              "      <th>A8</th>\n",
              "      <th>A9</th>\n",
              "      <th>...</th>\n",
              "      <th>Global developmental delay/intellectual disability</th>\n",
              "      <th>Social/Behavioural Issues</th>\n",
              "      <th>Childhood Autism Rating Scale</th>\n",
              "      <th>Anxiety_disorder</th>\n",
              "      <th>Sex</th>\n",
              "      <th>Ethnicity</th>\n",
              "      <th>Jaundice</th>\n",
              "      <th>Family_mem_with_ASD</th>\n",
              "      <th>Who_completed_the_test</th>\n",
              "      <th>ASD_traits</th>\n",
              "    </tr>\n",
              "  </thead>\n",
              "  <tbody>\n",
              "    <tr>\n",
              "      <th>0</th>\n",
              "      <td>1</td>\n",
              "      <td>0</td>\n",
              "      <td>0</td>\n",
              "      <td>0</td>\n",
              "      <td>0</td>\n",
              "      <td>0</td>\n",
              "      <td>0</td>\n",
              "      <td>1</td>\n",
              "      <td>1</td>\n",
              "      <td>0</td>\n",
              "      <td>...</td>\n",
              "      <td>Yes</td>\n",
              "      <td>Yes</td>\n",
              "      <td>1</td>\n",
              "      <td>Yes</td>\n",
              "      <td>F</td>\n",
              "      <td>middle eastern</td>\n",
              "      <td>Yes</td>\n",
              "      <td>No</td>\n",
              "      <td>Family Member</td>\n",
              "      <td>No</td>\n",
              "    </tr>\n",
              "    <tr>\n",
              "      <th>1</th>\n",
              "      <td>2</td>\n",
              "      <td>1</td>\n",
              "      <td>1</td>\n",
              "      <td>0</td>\n",
              "      <td>0</td>\n",
              "      <td>0</td>\n",
              "      <td>1</td>\n",
              "      <td>1</td>\n",
              "      <td>0</td>\n",
              "      <td>0</td>\n",
              "      <td>...</td>\n",
              "      <td>Yes</td>\n",
              "      <td>Yes</td>\n",
              "      <td>2</td>\n",
              "      <td>Yes</td>\n",
              "      <td>M</td>\n",
              "      <td>White European</td>\n",
              "      <td>Yes</td>\n",
              "      <td>No</td>\n",
              "      <td>Family Member</td>\n",
              "      <td>Yes</td>\n",
              "    </tr>\n",
              "  </tbody>\n",
              "</table>\n",
              "<p>2 rows × 28 columns</p>\n",
              "</div>\n",
              "      <button class=\"colab-df-convert\" onclick=\"convertToInteractive('df-a2c5a754-0463-47c5-8602-f6ff6daa770a')\"\n",
              "              title=\"Convert this dataframe to an interactive table.\"\n",
              "              style=\"display:none;\">\n",
              "        \n",
              "  <svg xmlns=\"http://www.w3.org/2000/svg\" height=\"24px\"viewBox=\"0 0 24 24\"\n",
              "       width=\"24px\">\n",
              "    <path d=\"M0 0h24v24H0V0z\" fill=\"none\"/>\n",
              "    <path d=\"M18.56 5.44l.94 2.06.94-2.06 2.06-.94-2.06-.94-.94-2.06-.94 2.06-2.06.94zm-11 1L8.5 8.5l.94-2.06 2.06-.94-2.06-.94L8.5 2.5l-.94 2.06-2.06.94zm10 10l.94 2.06.94-2.06 2.06-.94-2.06-.94-.94-2.06-.94 2.06-2.06.94z\"/><path d=\"M17.41 7.96l-1.37-1.37c-.4-.4-.92-.59-1.43-.59-.52 0-1.04.2-1.43.59L10.3 9.45l-7.72 7.72c-.78.78-.78 2.05 0 2.83L4 21.41c.39.39.9.59 1.41.59.51 0 1.02-.2 1.41-.59l7.78-7.78 2.81-2.81c.8-.78.8-2.07 0-2.86zM5.41 20L4 18.59l7.72-7.72 1.47 1.35L5.41 20z\"/>\n",
              "  </svg>\n",
              "      </button>\n",
              "      \n",
              "  <style>\n",
              "    .colab-df-container {\n",
              "      display:flex;\n",
              "      flex-wrap:wrap;\n",
              "      gap: 12px;\n",
              "    }\n",
              "\n",
              "    .colab-df-convert {\n",
              "      background-color: #E8F0FE;\n",
              "      border: none;\n",
              "      border-radius: 50%;\n",
              "      cursor: pointer;\n",
              "      display: none;\n",
              "      fill: #1967D2;\n",
              "      height: 32px;\n",
              "      padding: 0 0 0 0;\n",
              "      width: 32px;\n",
              "    }\n",
              "\n",
              "    .colab-df-convert:hover {\n",
              "      background-color: #E2EBFA;\n",
              "      box-shadow: 0px 1px 2px rgba(60, 64, 67, 0.3), 0px 1px 3px 1px rgba(60, 64, 67, 0.15);\n",
              "      fill: #174EA6;\n",
              "    }\n",
              "\n",
              "    [theme=dark] .colab-df-convert {\n",
              "      background-color: #3B4455;\n",
              "      fill: #D2E3FC;\n",
              "    }\n",
              "\n",
              "    [theme=dark] .colab-df-convert:hover {\n",
              "      background-color: #434B5C;\n",
              "      box-shadow: 0px 1px 3px 1px rgba(0, 0, 0, 0.15);\n",
              "      filter: drop-shadow(0px 1px 2px rgba(0, 0, 0, 0.3));\n",
              "      fill: #FFFFFF;\n",
              "    }\n",
              "  </style>\n",
              "\n",
              "      <script>\n",
              "        const buttonEl =\n",
              "          document.querySelector('#df-a2c5a754-0463-47c5-8602-f6ff6daa770a button.colab-df-convert');\n",
              "        buttonEl.style.display =\n",
              "          google.colab.kernel.accessAllowed ? 'block' : 'none';\n",
              "\n",
              "        async function convertToInteractive(key) {\n",
              "          const element = document.querySelector('#df-a2c5a754-0463-47c5-8602-f6ff6daa770a');\n",
              "          const dataTable =\n",
              "            await google.colab.kernel.invokeFunction('convertToInteractive',\n",
              "                                                     [key], {});\n",
              "          if (!dataTable) return;\n",
              "\n",
              "          const docLinkHtml = 'Like what you see? Visit the ' +\n",
              "            '<a target=\"_blank\" href=https://colab.research.google.com/notebooks/data_table.ipynb>data table notebook</a>'\n",
              "            + ' to learn more about interactive tables.';\n",
              "          element.innerHTML = '';\n",
              "          dataTable['output_type'] = 'display_data';\n",
              "          await google.colab.output.renderOutput(dataTable, element);\n",
              "          const docLink = document.createElement('div');\n",
              "          docLink.innerHTML = docLinkHtml;\n",
              "          element.appendChild(docLink);\n",
              "        }\n",
              "      </script>\n",
              "    </div>\n",
              "  </div>\n",
              "  "
            ]
          },
          "metadata": {},
          "execution_count": 2
        }
      ]
    },
    {
      "cell_type": "code",
      "source": [
        "df.columns"
      ],
      "metadata": {
        "id": "XNulxn4SNBGG",
        "colab": {
          "base_uri": "https://localhost:8080/"
        },
        "outputId": "9220b8ac-779f-4baf-f187-13ef67d2ac35"
      },
      "execution_count": 3,
      "outputs": [
        {
          "output_type": "execute_result",
          "data": {
            "text/plain": [
              "Index(['CASE_NO_PATIENT'S', 'A1', 'A2', 'A3', 'A4', 'A5', 'A6', 'A7', 'A8',\n",
              "       'A9', 'A10_Autism_Spectrum_Quotient', 'Social_Responsiveness_Scale',\n",
              "       'Age_Years', 'Qchat_10_Score', 'Speech Delay/Language Disorder',\n",
              "       'Learning disorder', 'Genetic_Disorders', 'Depression',\n",
              "       'Global developmental delay/intellectual disability',\n",
              "       'Social/Behavioural Issues', 'Childhood Autism Rating Scale',\n",
              "       'Anxiety_disorder', 'Sex', 'Ethnicity', 'Jaundice',\n",
              "       'Family_mem_with_ASD', 'Who_completed_the_test', 'ASD_traits'],\n",
              "      dtype='object')"
            ]
          },
          "metadata": {},
          "execution_count": 3
        }
      ]
    },
    {
      "cell_type": "code",
      "source": [
        "df.info()"
      ],
      "metadata": {
        "colab": {
          "base_uri": "https://localhost:8080/"
        },
        "id": "Xs8z-SL4DAeU",
        "outputId": "29044d8b-6668-4851-dc06-6b342726682e"
      },
      "execution_count": 4,
      "outputs": [
        {
          "output_type": "stream",
          "name": "stdout",
          "text": [
            "<class 'pandas.core.frame.DataFrame'>\n",
            "RangeIndex: 1985 entries, 0 to 1984\n",
            "Data columns (total 28 columns):\n",
            " #   Column                                              Non-Null Count  Dtype  \n",
            "---  ------                                              --------------  -----  \n",
            " 0   CASE_NO_PATIENT'S                                   1985 non-null   int64  \n",
            " 1   A1                                                  1985 non-null   int64  \n",
            " 2   A2                                                  1985 non-null   int64  \n",
            " 3   A3                                                  1985 non-null   int64  \n",
            " 4   A4                                                  1985 non-null   int64  \n",
            " 5   A5                                                  1985 non-null   int64  \n",
            " 6   A6                                                  1985 non-null   int64  \n",
            " 7   A7                                                  1985 non-null   int64  \n",
            " 8   A8                                                  1985 non-null   int64  \n",
            " 9   A9                                                  1985 non-null   int64  \n",
            " 10  A10_Autism_Spectrum_Quotient                        1985 non-null   int64  \n",
            " 11  Social_Responsiveness_Scale                         1976 non-null   float64\n",
            " 12  Age_Years                                           1985 non-null   int64  \n",
            " 13  Qchat_10_Score                                      1946 non-null   float64\n",
            " 14  Speech Delay/Language Disorder                      1985 non-null   object \n",
            " 15  Learning disorder                                   1985 non-null   object \n",
            " 16  Genetic_Disorders                                   1985 non-null   object \n",
            " 17  Depression                                          1984 non-null   object \n",
            " 18  Global developmental delay/intellectual disability  1985 non-null   object \n",
            " 19  Social/Behavioural Issues                           1971 non-null   object \n",
            " 20  Childhood Autism Rating Scale                       1985 non-null   int64  \n",
            " 21  Anxiety_disorder                                    1985 non-null   object \n",
            " 22  Sex                                                 1985 non-null   object \n",
            " 23  Ethnicity                                           1985 non-null   object \n",
            " 24  Jaundice                                            1985 non-null   object \n",
            " 25  Family_mem_with_ASD                                 1985 non-null   object \n",
            " 26  Who_completed_the_test                              1985 non-null   object \n",
            " 27  ASD_traits                                          1985 non-null   object \n",
            "dtypes: float64(2), int64(13), object(13)\n",
            "memory usage: 434.3+ KB\n"
          ]
        }
      ]
    },
    {
      "cell_type": "code",
      "source": [
        "df2=df.copy()"
      ],
      "metadata": {
        "id": "pwxx8E0E-x-5"
      },
      "execution_count": 5,
      "outputs": []
    },
    {
      "cell_type": "code",
      "source": [
        "df = df[df['Age_Years'] <13]"
      ],
      "metadata": {
        "id": "vrmUN2iSXLgj"
      },
      "execution_count": 6,
      "outputs": []
    },
    {
      "cell_type": "code",
      "source": [
        "df.dropna(axis=0, how='any',inplace=True)"
      ],
      "metadata": {
        "id": "N36D5TkfXnrG"
      },
      "execution_count": 7,
      "outputs": []
    },
    {
      "cell_type": "code",
      "source": [
        "df.shape"
      ],
      "metadata": {
        "colab": {
          "base_uri": "https://localhost:8080/"
        },
        "id": "YRQq2urZXxS4",
        "outputId": "1431ddb8-852a-4743-fa9e-e582e3606f98"
      },
      "execution_count": 8,
      "outputs": [
        {
          "output_type": "execute_result",
          "data": {
            "text/plain": [
              "(1169, 28)"
            ]
          },
          "metadata": {},
          "execution_count": 8
        }
      ]
    },
    {
      "cell_type": "markdown",
      "source": [
        "**Crosschecking Qchat column for false scoring**"
      ],
      "metadata": {
        "id": "u6OhcuHqwIXv"
      }
    },
    {
      "cell_type": "code",
      "source": [
        "df[['A1', 'A2', 'A3', 'A4', 'A5', 'A6', 'A7', 'A8','A9', 'A10_Autism_Spectrum_Quotient','Qchat_10_Score']].tail(5)"
      ],
      "metadata": {
        "colab": {
          "base_uri": "https://localhost:8080/",
          "height": 206
        },
        "id": "k93pDZdEva7c",
        "outputId": "cdb69eb6-0b11-4e68-a955-27093a764390"
      },
      "execution_count": 9,
      "outputs": [
        {
          "output_type": "execute_result",
          "data": {
            "text/plain": [
              "      A1  A2  A3  A4  A5  A6  A7  A8  A9  A10_Autism_Spectrum_Quotient  \\\n",
              "1976   0   0   0   0   0   0   0   0   0                             1   \n",
              "1978   0   0   0   0   0   0   0   0   0                             1   \n",
              "1980   0   0   0   0   0   0   0   0   0                             1   \n",
              "1982   0   0   0   0   0   0   0   0   0                             1   \n",
              "1984   0   0   0   0   0   0   0   0   0                             1   \n",
              "\n",
              "      Qchat_10_Score  \n",
              "1976             6.0  \n",
              "1978             6.0  \n",
              "1980             6.0  \n",
              "1982             6.0  \n",
              "1984             6.0  "
            ],
            "text/html": [
              "\n",
              "  <div id=\"df-e77ccb1c-8a50-4f6c-be79-fbea9ce0ba92\">\n",
              "    <div class=\"colab-df-container\">\n",
              "      <div>\n",
              "<style scoped>\n",
              "    .dataframe tbody tr th:only-of-type {\n",
              "        vertical-align: middle;\n",
              "    }\n",
              "\n",
              "    .dataframe tbody tr th {\n",
              "        vertical-align: top;\n",
              "    }\n",
              "\n",
              "    .dataframe thead th {\n",
              "        text-align: right;\n",
              "    }\n",
              "</style>\n",
              "<table border=\"1\" class=\"dataframe\">\n",
              "  <thead>\n",
              "    <tr style=\"text-align: right;\">\n",
              "      <th></th>\n",
              "      <th>A1</th>\n",
              "      <th>A2</th>\n",
              "      <th>A3</th>\n",
              "      <th>A4</th>\n",
              "      <th>A5</th>\n",
              "      <th>A6</th>\n",
              "      <th>A7</th>\n",
              "      <th>A8</th>\n",
              "      <th>A9</th>\n",
              "      <th>A10_Autism_Spectrum_Quotient</th>\n",
              "      <th>Qchat_10_Score</th>\n",
              "    </tr>\n",
              "  </thead>\n",
              "  <tbody>\n",
              "    <tr>\n",
              "      <th>1976</th>\n",
              "      <td>0</td>\n",
              "      <td>0</td>\n",
              "      <td>0</td>\n",
              "      <td>0</td>\n",
              "      <td>0</td>\n",
              "      <td>0</td>\n",
              "      <td>0</td>\n",
              "      <td>0</td>\n",
              "      <td>0</td>\n",
              "      <td>1</td>\n",
              "      <td>6.0</td>\n",
              "    </tr>\n",
              "    <tr>\n",
              "      <th>1978</th>\n",
              "      <td>0</td>\n",
              "      <td>0</td>\n",
              "      <td>0</td>\n",
              "      <td>0</td>\n",
              "      <td>0</td>\n",
              "      <td>0</td>\n",
              "      <td>0</td>\n",
              "      <td>0</td>\n",
              "      <td>0</td>\n",
              "      <td>1</td>\n",
              "      <td>6.0</td>\n",
              "    </tr>\n",
              "    <tr>\n",
              "      <th>1980</th>\n",
              "      <td>0</td>\n",
              "      <td>0</td>\n",
              "      <td>0</td>\n",
              "      <td>0</td>\n",
              "      <td>0</td>\n",
              "      <td>0</td>\n",
              "      <td>0</td>\n",
              "      <td>0</td>\n",
              "      <td>0</td>\n",
              "      <td>1</td>\n",
              "      <td>6.0</td>\n",
              "    </tr>\n",
              "    <tr>\n",
              "      <th>1982</th>\n",
              "      <td>0</td>\n",
              "      <td>0</td>\n",
              "      <td>0</td>\n",
              "      <td>0</td>\n",
              "      <td>0</td>\n",
              "      <td>0</td>\n",
              "      <td>0</td>\n",
              "      <td>0</td>\n",
              "      <td>0</td>\n",
              "      <td>1</td>\n",
              "      <td>6.0</td>\n",
              "    </tr>\n",
              "    <tr>\n",
              "      <th>1984</th>\n",
              "      <td>0</td>\n",
              "      <td>0</td>\n",
              "      <td>0</td>\n",
              "      <td>0</td>\n",
              "      <td>0</td>\n",
              "      <td>0</td>\n",
              "      <td>0</td>\n",
              "      <td>0</td>\n",
              "      <td>0</td>\n",
              "      <td>1</td>\n",
              "      <td>6.0</td>\n",
              "    </tr>\n",
              "  </tbody>\n",
              "</table>\n",
              "</div>\n",
              "      <button class=\"colab-df-convert\" onclick=\"convertToInteractive('df-e77ccb1c-8a50-4f6c-be79-fbea9ce0ba92')\"\n",
              "              title=\"Convert this dataframe to an interactive table.\"\n",
              "              style=\"display:none;\">\n",
              "        \n",
              "  <svg xmlns=\"http://www.w3.org/2000/svg\" height=\"24px\"viewBox=\"0 0 24 24\"\n",
              "       width=\"24px\">\n",
              "    <path d=\"M0 0h24v24H0V0z\" fill=\"none\"/>\n",
              "    <path d=\"M18.56 5.44l.94 2.06.94-2.06 2.06-.94-2.06-.94-.94-2.06-.94 2.06-2.06.94zm-11 1L8.5 8.5l.94-2.06 2.06-.94-2.06-.94L8.5 2.5l-.94 2.06-2.06.94zm10 10l.94 2.06.94-2.06 2.06-.94-2.06-.94-.94-2.06-.94 2.06-2.06.94z\"/><path d=\"M17.41 7.96l-1.37-1.37c-.4-.4-.92-.59-1.43-.59-.52 0-1.04.2-1.43.59L10.3 9.45l-7.72 7.72c-.78.78-.78 2.05 0 2.83L4 21.41c.39.39.9.59 1.41.59.51 0 1.02-.2 1.41-.59l7.78-7.78 2.81-2.81c.8-.78.8-2.07 0-2.86zM5.41 20L4 18.59l7.72-7.72 1.47 1.35L5.41 20z\"/>\n",
              "  </svg>\n",
              "      </button>\n",
              "      \n",
              "  <style>\n",
              "    .colab-df-container {\n",
              "      display:flex;\n",
              "      flex-wrap:wrap;\n",
              "      gap: 12px;\n",
              "    }\n",
              "\n",
              "    .colab-df-convert {\n",
              "      background-color: #E8F0FE;\n",
              "      border: none;\n",
              "      border-radius: 50%;\n",
              "      cursor: pointer;\n",
              "      display: none;\n",
              "      fill: #1967D2;\n",
              "      height: 32px;\n",
              "      padding: 0 0 0 0;\n",
              "      width: 32px;\n",
              "    }\n",
              "\n",
              "    .colab-df-convert:hover {\n",
              "      background-color: #E2EBFA;\n",
              "      box-shadow: 0px 1px 2px rgba(60, 64, 67, 0.3), 0px 1px 3px 1px rgba(60, 64, 67, 0.15);\n",
              "      fill: #174EA6;\n",
              "    }\n",
              "\n",
              "    [theme=dark] .colab-df-convert {\n",
              "      background-color: #3B4455;\n",
              "      fill: #D2E3FC;\n",
              "    }\n",
              "\n",
              "    [theme=dark] .colab-df-convert:hover {\n",
              "      background-color: #434B5C;\n",
              "      box-shadow: 0px 1px 3px 1px rgba(0, 0, 0, 0.15);\n",
              "      filter: drop-shadow(0px 1px 2px rgba(0, 0, 0, 0.3));\n",
              "      fill: #FFFFFF;\n",
              "    }\n",
              "  </style>\n",
              "\n",
              "      <script>\n",
              "        const buttonEl =\n",
              "          document.querySelector('#df-e77ccb1c-8a50-4f6c-be79-fbea9ce0ba92 button.colab-df-convert');\n",
              "        buttonEl.style.display =\n",
              "          google.colab.kernel.accessAllowed ? 'block' : 'none';\n",
              "\n",
              "        async function convertToInteractive(key) {\n",
              "          const element = document.querySelector('#df-e77ccb1c-8a50-4f6c-be79-fbea9ce0ba92');\n",
              "          const dataTable =\n",
              "            await google.colab.kernel.invokeFunction('convertToInteractive',\n",
              "                                                     [key], {});\n",
              "          if (!dataTable) return;\n",
              "\n",
              "          const docLinkHtml = 'Like what you see? Visit the ' +\n",
              "            '<a target=\"_blank\" href=https://colab.research.google.com/notebooks/data_table.ipynb>data table notebook</a>'\n",
              "            + ' to learn more about interactive tables.';\n",
              "          element.innerHTML = '';\n",
              "          dataTable['output_type'] = 'display_data';\n",
              "          await google.colab.output.renderOutput(dataTable, element);\n",
              "          const docLink = document.createElement('div');\n",
              "          docLink.innerHTML = docLinkHtml;\n",
              "          element.appendChild(docLink);\n",
              "        }\n",
              "      </script>\n",
              "    </div>\n",
              "  </div>\n",
              "  "
            ]
          },
          "metadata": {},
          "execution_count": 9
        }
      ]
    },
    {
      "cell_type": "code",
      "source": [
        "# to check the perfectness of scoring in Qchat column , added column with sum of all the columns(A1 to A10)\n",
        "df['new_Qchat_10_score'] = df[['A1', 'A2', 'A3', 'A4', 'A5', 'A6', 'A7', 'A8','A9', 'A10_Autism_Spectrum_Quotient']].sum(axis =1)"
      ],
      "metadata": {
        "id": "zgdcmzuzvfwQ"
      },
      "execution_count": 10,
      "outputs": []
    },
    {
      "cell_type": "code",
      "source": [
        "df[['Qchat_10_Score','new_Qchat_10_score']].value_counts().sort_index()"
      ],
      "metadata": {
        "colab": {
          "base_uri": "https://localhost:8080/"
        },
        "id": "g6D8yHm4viDY",
        "outputId": "28a57e2c-514c-4c1d-a968-30fe388c8010"
      },
      "execution_count": 11,
      "outputs": [
        {
          "output_type": "execute_result",
          "data": {
            "text/plain": [
              "Qchat_10_Score  new_Qchat_10_score\n",
              "0.0             0                      35\n",
              "1.0             0                     103\n",
              "                1                      66\n",
              "                9                       1\n",
              "2.0             1                      32\n",
              "                2                      60\n",
              "3.0             0                     100\n",
              "                3                      68\n",
              "4.0             0                       2\n",
              "                4                      76\n",
              "5.0             0                      32\n",
              "                5                      75\n",
              "6.0             0                       1\n",
              "                1                     177\n",
              "                6                      64\n",
              "7.0             0                       2\n",
              "                7                      88\n",
              "8.0             0                       1\n",
              "                8                      60\n",
              "9.0             0                       6\n",
              "                9                      53\n",
              "10.0            0                      16\n",
              "                9                       6\n",
              "                10                     45\n",
              "dtype: int64"
            ]
          },
          "metadata": {},
          "execution_count": 11
        }
      ]
    },
    {
      "cell_type": "code",
      "source": [
        "df[['A1', 'A2', 'A3', 'A4', 'A5', 'A6', 'A7', 'A8','A9', 'A10_Autism_Spectrum_Quotient','Qchat_10_Score','new_Qchat_10_score']]"
      ],
      "metadata": {
        "colab": {
          "base_uri": "https://localhost:8080/",
          "height": 424
        },
        "id": "V8ao48KBvl9M",
        "outputId": "124c5d4a-2fc3-4445-c1eb-12446a387bb9"
      },
      "execution_count": 12,
      "outputs": [
        {
          "output_type": "execute_result",
          "data": {
            "text/plain": [
              "      A1  A2  A3  A4  A5  A6  A7  A8  A9  A10_Autism_Spectrum_Quotient  \\\n",
              "0      0   0   0   0   0   0   1   1   0                             1   \n",
              "1      1   1   0   0   0   1   1   0   0                             0   \n",
              "2      1   0   0   0   0   0   1   1   0                             1   \n",
              "3      1   1   1   1   1   1   1   1   1                             1   \n",
              "4      1   1   0   1   1   1   1   1   1                             1   \n",
              "...   ..  ..  ..  ..  ..  ..  ..  ..  ..                           ...   \n",
              "1976   0   0   0   0   0   0   0   0   0                             1   \n",
              "1978   0   0   0   0   0   0   0   0   0                             1   \n",
              "1980   0   0   0   0   0   0   0   0   0                             1   \n",
              "1982   0   0   0   0   0   0   0   0   0                             1   \n",
              "1984   0   0   0   0   0   0   0   0   0                             1   \n",
              "\n",
              "      Qchat_10_Score  new_Qchat_10_score  \n",
              "0                3.0                   3  \n",
              "1                4.0                   4  \n",
              "2                4.0                   4  \n",
              "3               10.0                  10  \n",
              "4                9.0                   9  \n",
              "...              ...                 ...  \n",
              "1976             6.0                   1  \n",
              "1978             6.0                   1  \n",
              "1980             6.0                   1  \n",
              "1982             6.0                   1  \n",
              "1984             6.0                   1  \n",
              "\n",
              "[1169 rows x 12 columns]"
            ],
            "text/html": [
              "\n",
              "  <div id=\"df-bd8b2e26-b4a4-486b-a2b2-b71ce240f599\">\n",
              "    <div class=\"colab-df-container\">\n",
              "      <div>\n",
              "<style scoped>\n",
              "    .dataframe tbody tr th:only-of-type {\n",
              "        vertical-align: middle;\n",
              "    }\n",
              "\n",
              "    .dataframe tbody tr th {\n",
              "        vertical-align: top;\n",
              "    }\n",
              "\n",
              "    .dataframe thead th {\n",
              "        text-align: right;\n",
              "    }\n",
              "</style>\n",
              "<table border=\"1\" class=\"dataframe\">\n",
              "  <thead>\n",
              "    <tr style=\"text-align: right;\">\n",
              "      <th></th>\n",
              "      <th>A1</th>\n",
              "      <th>A2</th>\n",
              "      <th>A3</th>\n",
              "      <th>A4</th>\n",
              "      <th>A5</th>\n",
              "      <th>A6</th>\n",
              "      <th>A7</th>\n",
              "      <th>A8</th>\n",
              "      <th>A9</th>\n",
              "      <th>A10_Autism_Spectrum_Quotient</th>\n",
              "      <th>Qchat_10_Score</th>\n",
              "      <th>new_Qchat_10_score</th>\n",
              "    </tr>\n",
              "  </thead>\n",
              "  <tbody>\n",
              "    <tr>\n",
              "      <th>0</th>\n",
              "      <td>0</td>\n",
              "      <td>0</td>\n",
              "      <td>0</td>\n",
              "      <td>0</td>\n",
              "      <td>0</td>\n",
              "      <td>0</td>\n",
              "      <td>1</td>\n",
              "      <td>1</td>\n",
              "      <td>0</td>\n",
              "      <td>1</td>\n",
              "      <td>3.0</td>\n",
              "      <td>3</td>\n",
              "    </tr>\n",
              "    <tr>\n",
              "      <th>1</th>\n",
              "      <td>1</td>\n",
              "      <td>1</td>\n",
              "      <td>0</td>\n",
              "      <td>0</td>\n",
              "      <td>0</td>\n",
              "      <td>1</td>\n",
              "      <td>1</td>\n",
              "      <td>0</td>\n",
              "      <td>0</td>\n",
              "      <td>0</td>\n",
              "      <td>4.0</td>\n",
              "      <td>4</td>\n",
              "    </tr>\n",
              "    <tr>\n",
              "      <th>2</th>\n",
              "      <td>1</td>\n",
              "      <td>0</td>\n",
              "      <td>0</td>\n",
              "      <td>0</td>\n",
              "      <td>0</td>\n",
              "      <td>0</td>\n",
              "      <td>1</td>\n",
              "      <td>1</td>\n",
              "      <td>0</td>\n",
              "      <td>1</td>\n",
              "      <td>4.0</td>\n",
              "      <td>4</td>\n",
              "    </tr>\n",
              "    <tr>\n",
              "      <th>3</th>\n",
              "      <td>1</td>\n",
              "      <td>1</td>\n",
              "      <td>1</td>\n",
              "      <td>1</td>\n",
              "      <td>1</td>\n",
              "      <td>1</td>\n",
              "      <td>1</td>\n",
              "      <td>1</td>\n",
              "      <td>1</td>\n",
              "      <td>1</td>\n",
              "      <td>10.0</td>\n",
              "      <td>10</td>\n",
              "    </tr>\n",
              "    <tr>\n",
              "      <th>4</th>\n",
              "      <td>1</td>\n",
              "      <td>1</td>\n",
              "      <td>0</td>\n",
              "      <td>1</td>\n",
              "      <td>1</td>\n",
              "      <td>1</td>\n",
              "      <td>1</td>\n",
              "      <td>1</td>\n",
              "      <td>1</td>\n",
              "      <td>1</td>\n",
              "      <td>9.0</td>\n",
              "      <td>9</td>\n",
              "    </tr>\n",
              "    <tr>\n",
              "      <th>...</th>\n",
              "      <td>...</td>\n",
              "      <td>...</td>\n",
              "      <td>...</td>\n",
              "      <td>...</td>\n",
              "      <td>...</td>\n",
              "      <td>...</td>\n",
              "      <td>...</td>\n",
              "      <td>...</td>\n",
              "      <td>...</td>\n",
              "      <td>...</td>\n",
              "      <td>...</td>\n",
              "      <td>...</td>\n",
              "    </tr>\n",
              "    <tr>\n",
              "      <th>1976</th>\n",
              "      <td>0</td>\n",
              "      <td>0</td>\n",
              "      <td>0</td>\n",
              "      <td>0</td>\n",
              "      <td>0</td>\n",
              "      <td>0</td>\n",
              "      <td>0</td>\n",
              "      <td>0</td>\n",
              "      <td>0</td>\n",
              "      <td>1</td>\n",
              "      <td>6.0</td>\n",
              "      <td>1</td>\n",
              "    </tr>\n",
              "    <tr>\n",
              "      <th>1978</th>\n",
              "      <td>0</td>\n",
              "      <td>0</td>\n",
              "      <td>0</td>\n",
              "      <td>0</td>\n",
              "      <td>0</td>\n",
              "      <td>0</td>\n",
              "      <td>0</td>\n",
              "      <td>0</td>\n",
              "      <td>0</td>\n",
              "      <td>1</td>\n",
              "      <td>6.0</td>\n",
              "      <td>1</td>\n",
              "    </tr>\n",
              "    <tr>\n",
              "      <th>1980</th>\n",
              "      <td>0</td>\n",
              "      <td>0</td>\n",
              "      <td>0</td>\n",
              "      <td>0</td>\n",
              "      <td>0</td>\n",
              "      <td>0</td>\n",
              "      <td>0</td>\n",
              "      <td>0</td>\n",
              "      <td>0</td>\n",
              "      <td>1</td>\n",
              "      <td>6.0</td>\n",
              "      <td>1</td>\n",
              "    </tr>\n",
              "    <tr>\n",
              "      <th>1982</th>\n",
              "      <td>0</td>\n",
              "      <td>0</td>\n",
              "      <td>0</td>\n",
              "      <td>0</td>\n",
              "      <td>0</td>\n",
              "      <td>0</td>\n",
              "      <td>0</td>\n",
              "      <td>0</td>\n",
              "      <td>0</td>\n",
              "      <td>1</td>\n",
              "      <td>6.0</td>\n",
              "      <td>1</td>\n",
              "    </tr>\n",
              "    <tr>\n",
              "      <th>1984</th>\n",
              "      <td>0</td>\n",
              "      <td>0</td>\n",
              "      <td>0</td>\n",
              "      <td>0</td>\n",
              "      <td>0</td>\n",
              "      <td>0</td>\n",
              "      <td>0</td>\n",
              "      <td>0</td>\n",
              "      <td>0</td>\n",
              "      <td>1</td>\n",
              "      <td>6.0</td>\n",
              "      <td>1</td>\n",
              "    </tr>\n",
              "  </tbody>\n",
              "</table>\n",
              "<p>1169 rows × 12 columns</p>\n",
              "</div>\n",
              "      <button class=\"colab-df-convert\" onclick=\"convertToInteractive('df-bd8b2e26-b4a4-486b-a2b2-b71ce240f599')\"\n",
              "              title=\"Convert this dataframe to an interactive table.\"\n",
              "              style=\"display:none;\">\n",
              "        \n",
              "  <svg xmlns=\"http://www.w3.org/2000/svg\" height=\"24px\"viewBox=\"0 0 24 24\"\n",
              "       width=\"24px\">\n",
              "    <path d=\"M0 0h24v24H0V0z\" fill=\"none\"/>\n",
              "    <path d=\"M18.56 5.44l.94 2.06.94-2.06 2.06-.94-2.06-.94-.94-2.06-.94 2.06-2.06.94zm-11 1L8.5 8.5l.94-2.06 2.06-.94-2.06-.94L8.5 2.5l-.94 2.06-2.06.94zm10 10l.94 2.06.94-2.06 2.06-.94-2.06-.94-.94-2.06-.94 2.06-2.06.94z\"/><path d=\"M17.41 7.96l-1.37-1.37c-.4-.4-.92-.59-1.43-.59-.52 0-1.04.2-1.43.59L10.3 9.45l-7.72 7.72c-.78.78-.78 2.05 0 2.83L4 21.41c.39.39.9.59 1.41.59.51 0 1.02-.2 1.41-.59l7.78-7.78 2.81-2.81c.8-.78.8-2.07 0-2.86zM5.41 20L4 18.59l7.72-7.72 1.47 1.35L5.41 20z\"/>\n",
              "  </svg>\n",
              "      </button>\n",
              "      \n",
              "  <style>\n",
              "    .colab-df-container {\n",
              "      display:flex;\n",
              "      flex-wrap:wrap;\n",
              "      gap: 12px;\n",
              "    }\n",
              "\n",
              "    .colab-df-convert {\n",
              "      background-color: #E8F0FE;\n",
              "      border: none;\n",
              "      border-radius: 50%;\n",
              "      cursor: pointer;\n",
              "      display: none;\n",
              "      fill: #1967D2;\n",
              "      height: 32px;\n",
              "      padding: 0 0 0 0;\n",
              "      width: 32px;\n",
              "    }\n",
              "\n",
              "    .colab-df-convert:hover {\n",
              "      background-color: #E2EBFA;\n",
              "      box-shadow: 0px 1px 2px rgba(60, 64, 67, 0.3), 0px 1px 3px 1px rgba(60, 64, 67, 0.15);\n",
              "      fill: #174EA6;\n",
              "    }\n",
              "\n",
              "    [theme=dark] .colab-df-convert {\n",
              "      background-color: #3B4455;\n",
              "      fill: #D2E3FC;\n",
              "    }\n",
              "\n",
              "    [theme=dark] .colab-df-convert:hover {\n",
              "      background-color: #434B5C;\n",
              "      box-shadow: 0px 1px 3px 1px rgba(0, 0, 0, 0.15);\n",
              "      filter: drop-shadow(0px 1px 2px rgba(0, 0, 0, 0.3));\n",
              "      fill: #FFFFFF;\n",
              "    }\n",
              "  </style>\n",
              "\n",
              "      <script>\n",
              "        const buttonEl =\n",
              "          document.querySelector('#df-bd8b2e26-b4a4-486b-a2b2-b71ce240f599 button.colab-df-convert');\n",
              "        buttonEl.style.display =\n",
              "          google.colab.kernel.accessAllowed ? 'block' : 'none';\n",
              "\n",
              "        async function convertToInteractive(key) {\n",
              "          const element = document.querySelector('#df-bd8b2e26-b4a4-486b-a2b2-b71ce240f599');\n",
              "          const dataTable =\n",
              "            await google.colab.kernel.invokeFunction('convertToInteractive',\n",
              "                                                     [key], {});\n",
              "          if (!dataTable) return;\n",
              "\n",
              "          const docLinkHtml = 'Like what you see? Visit the ' +\n",
              "            '<a target=\"_blank\" href=https://colab.research.google.com/notebooks/data_table.ipynb>data table notebook</a>'\n",
              "            + ' to learn more about interactive tables.';\n",
              "          element.innerHTML = '';\n",
              "          dataTable['output_type'] = 'display_data';\n",
              "          await google.colab.output.renderOutput(dataTable, element);\n",
              "          const docLink = document.createElement('div');\n",
              "          docLink.innerHTML = docLinkHtml;\n",
              "          element.appendChild(docLink);\n",
              "        }\n",
              "      </script>\n",
              "    </div>\n",
              "  </div>\n",
              "  "
            ]
          },
          "metadata": {},
          "execution_count": 12
        }
      ]
    },
    {
      "cell_type": "code",
      "source": [
        "df[(df['Qchat_10_Score'] == 0) | (df['new_Qchat_10_score']== 0)].groupby(['Qchat_10_Score','new_Qchat_10_score'])[\"CASE_NO_PATIENT'S\"].count()"
      ],
      "metadata": {
        "colab": {
          "base_uri": "https://localhost:8080/"
        },
        "id": "-K02EDvkvqGH",
        "outputId": "fa54078c-b2fa-499b-f1f2-fda2b8e850e4"
      },
      "execution_count": 13,
      "outputs": [
        {
          "output_type": "execute_result",
          "data": {
            "text/plain": [
              "Qchat_10_Score  new_Qchat_10_score\n",
              "0.0             0                      35\n",
              "1.0             0                     103\n",
              "3.0             0                     100\n",
              "4.0             0                       2\n",
              "5.0             0                      32\n",
              "6.0             0                       1\n",
              "7.0             0                       2\n",
              "8.0             0                       1\n",
              "9.0             0                       6\n",
              "10.0            0                      16\n",
              "Name: CASE_NO_PATIENT'S, dtype: int64"
            ]
          },
          "metadata": {},
          "execution_count": 13
        }
      ]
    },
    {
      "cell_type": "markdown",
      "source": [
        "**We can see from above result that in Qchat score column false scoring was recorded and also corresponding A1 to A10 column have recorded as zero. We need to drop all these rows for better model.**"
      ],
      "metadata": {
        "id": "by6GjtfkwcsW"
      }
    },
    {
      "cell_type": "code",
      "source": [
        "df= df[df['new_Qchat_10_score']!= 0]"
      ],
      "metadata": {
        "id": "l6kJf9vxvs_V"
      },
      "execution_count": 15,
      "outputs": []
    },
    {
      "cell_type": "code",
      "source": [
        "df['ASD_traits'].value_counts()"
      ],
      "metadata": {
        "colab": {
          "base_uri": "https://localhost:8080/"
        },
        "id": "vd1DBFDUvwxQ",
        "outputId": "6876f905-1d95-40d1-de95-6d836d548f92"
      },
      "execution_count": 16,
      "outputs": [
        {
          "output_type": "execute_result",
          "data": {
            "text/plain": [
              "Yes    519\n",
              "No     352\n",
              "Name: ASD_traits, dtype: int64"
            ]
          },
          "metadata": {},
          "execution_count": 16
        }
      ]
    },
    {
      "cell_type": "code",
      "source": [
        "df['ASD_traits'].value_counts()/np.float(len(df))"
      ],
      "metadata": {
        "colab": {
          "base_uri": "https://localhost:8080/"
        },
        "id": "-4RNigJovweU",
        "outputId": "89c2792b-3dd1-4f9e-d2a5-5a701457b2b1"
      },
      "execution_count": 17,
      "outputs": [
        {
          "output_type": "execute_result",
          "data": {
            "text/plain": [
              "Yes    0.595867\n",
              "No     0.404133\n",
              "Name: ASD_traits, dtype: float64"
            ]
          },
          "metadata": {},
          "execution_count": 17
        }
      ]
    },
    {
      "cell_type": "code",
      "source": [
        "#Intialize empty list for categorical features and their length\n",
        "cat_features = []\n",
        "label_len = []\n",
        "\n",
        "# Identify categorical features\n",
        "for i in df.columns:\n",
        "  if (df[i].dtype == object):\n",
        "    cat_features.append(i)\n",
        "\n",
        "# Identify labels length per leature\n",
        "for i in cat_features:\n",
        "  label_len.append(len(df[i].unique()))\n",
        "\n",
        "# Display total categorical features\n",
        "print('Total Categorical Features:', len(cat_features))\n",
        "\n",
        "# Create and show categorical feature frame\n",
        "cat_frame = pd.DataFrame(data = {'Length': label_len}, index=cat_features)\n",
        "cat_frame"
      ],
      "metadata": {
        "colab": {
          "base_uri": "https://localhost:8080/",
          "height": 474
        },
        "id": "uCQbXMTqYIPf",
        "outputId": "b054fe42-9226-48e3-95db-30f10dcc86e0"
      },
      "execution_count": 18,
      "outputs": [
        {
          "output_type": "stream",
          "name": "stdout",
          "text": [
            "Total Categorical Features: 13\n"
          ]
        },
        {
          "output_type": "execute_result",
          "data": {
            "text/plain": [
              "                                                    Length\n",
              "Speech Delay/Language Disorder                           2\n",
              "Learning disorder                                        2\n",
              "Genetic_Disorders                                        2\n",
              "Depression                                               2\n",
              "Global developmental delay/intellectual disability       2\n",
              "Social/Behavioural Issues                                2\n",
              "Anxiety_disorder                                         2\n",
              "Sex                                                      2\n",
              "Ethnicity                                               16\n",
              "Jaundice                                                 2\n",
              "Family_mem_with_ASD                                      2\n",
              "Who_completed_the_test                                   4\n",
              "ASD_traits                                               2"
            ],
            "text/html": [
              "\n",
              "  <div id=\"df-2a5f1cc4-a889-4094-aded-6161bb8fef69\">\n",
              "    <div class=\"colab-df-container\">\n",
              "      <div>\n",
              "<style scoped>\n",
              "    .dataframe tbody tr th:only-of-type {\n",
              "        vertical-align: middle;\n",
              "    }\n",
              "\n",
              "    .dataframe tbody tr th {\n",
              "        vertical-align: top;\n",
              "    }\n",
              "\n",
              "    .dataframe thead th {\n",
              "        text-align: right;\n",
              "    }\n",
              "</style>\n",
              "<table border=\"1\" class=\"dataframe\">\n",
              "  <thead>\n",
              "    <tr style=\"text-align: right;\">\n",
              "      <th></th>\n",
              "      <th>Length</th>\n",
              "    </tr>\n",
              "  </thead>\n",
              "  <tbody>\n",
              "    <tr>\n",
              "      <th>Speech Delay/Language Disorder</th>\n",
              "      <td>2</td>\n",
              "    </tr>\n",
              "    <tr>\n",
              "      <th>Learning disorder</th>\n",
              "      <td>2</td>\n",
              "    </tr>\n",
              "    <tr>\n",
              "      <th>Genetic_Disorders</th>\n",
              "      <td>2</td>\n",
              "    </tr>\n",
              "    <tr>\n",
              "      <th>Depression</th>\n",
              "      <td>2</td>\n",
              "    </tr>\n",
              "    <tr>\n",
              "      <th>Global developmental delay/intellectual disability</th>\n",
              "      <td>2</td>\n",
              "    </tr>\n",
              "    <tr>\n",
              "      <th>Social/Behavioural Issues</th>\n",
              "      <td>2</td>\n",
              "    </tr>\n",
              "    <tr>\n",
              "      <th>Anxiety_disorder</th>\n",
              "      <td>2</td>\n",
              "    </tr>\n",
              "    <tr>\n",
              "      <th>Sex</th>\n",
              "      <td>2</td>\n",
              "    </tr>\n",
              "    <tr>\n",
              "      <th>Ethnicity</th>\n",
              "      <td>16</td>\n",
              "    </tr>\n",
              "    <tr>\n",
              "      <th>Jaundice</th>\n",
              "      <td>2</td>\n",
              "    </tr>\n",
              "    <tr>\n",
              "      <th>Family_mem_with_ASD</th>\n",
              "      <td>2</td>\n",
              "    </tr>\n",
              "    <tr>\n",
              "      <th>Who_completed_the_test</th>\n",
              "      <td>4</td>\n",
              "    </tr>\n",
              "    <tr>\n",
              "      <th>ASD_traits</th>\n",
              "      <td>2</td>\n",
              "    </tr>\n",
              "  </tbody>\n",
              "</table>\n",
              "</div>\n",
              "      <button class=\"colab-df-convert\" onclick=\"convertToInteractive('df-2a5f1cc4-a889-4094-aded-6161bb8fef69')\"\n",
              "              title=\"Convert this dataframe to an interactive table.\"\n",
              "              style=\"display:none;\">\n",
              "        \n",
              "  <svg xmlns=\"http://www.w3.org/2000/svg\" height=\"24px\"viewBox=\"0 0 24 24\"\n",
              "       width=\"24px\">\n",
              "    <path d=\"M0 0h24v24H0V0z\" fill=\"none\"/>\n",
              "    <path d=\"M18.56 5.44l.94 2.06.94-2.06 2.06-.94-2.06-.94-.94-2.06-.94 2.06-2.06.94zm-11 1L8.5 8.5l.94-2.06 2.06-.94-2.06-.94L8.5 2.5l-.94 2.06-2.06.94zm10 10l.94 2.06.94-2.06 2.06-.94-2.06-.94-.94-2.06-.94 2.06-2.06.94z\"/><path d=\"M17.41 7.96l-1.37-1.37c-.4-.4-.92-.59-1.43-.59-.52 0-1.04.2-1.43.59L10.3 9.45l-7.72 7.72c-.78.78-.78 2.05 0 2.83L4 21.41c.39.39.9.59 1.41.59.51 0 1.02-.2 1.41-.59l7.78-7.78 2.81-2.81c.8-.78.8-2.07 0-2.86zM5.41 20L4 18.59l7.72-7.72 1.47 1.35L5.41 20z\"/>\n",
              "  </svg>\n",
              "      </button>\n",
              "      \n",
              "  <style>\n",
              "    .colab-df-container {\n",
              "      display:flex;\n",
              "      flex-wrap:wrap;\n",
              "      gap: 12px;\n",
              "    }\n",
              "\n",
              "    .colab-df-convert {\n",
              "      background-color: #E8F0FE;\n",
              "      border: none;\n",
              "      border-radius: 50%;\n",
              "      cursor: pointer;\n",
              "      display: none;\n",
              "      fill: #1967D2;\n",
              "      height: 32px;\n",
              "      padding: 0 0 0 0;\n",
              "      width: 32px;\n",
              "    }\n",
              "\n",
              "    .colab-df-convert:hover {\n",
              "      background-color: #E2EBFA;\n",
              "      box-shadow: 0px 1px 2px rgba(60, 64, 67, 0.3), 0px 1px 3px 1px rgba(60, 64, 67, 0.15);\n",
              "      fill: #174EA6;\n",
              "    }\n",
              "\n",
              "    [theme=dark] .colab-df-convert {\n",
              "      background-color: #3B4455;\n",
              "      fill: #D2E3FC;\n",
              "    }\n",
              "\n",
              "    [theme=dark] .colab-df-convert:hover {\n",
              "      background-color: #434B5C;\n",
              "      box-shadow: 0px 1px 3px 1px rgba(0, 0, 0, 0.15);\n",
              "      filter: drop-shadow(0px 1px 2px rgba(0, 0, 0, 0.3));\n",
              "      fill: #FFFFFF;\n",
              "    }\n",
              "  </style>\n",
              "\n",
              "      <script>\n",
              "        const buttonEl =\n",
              "          document.querySelector('#df-2a5f1cc4-a889-4094-aded-6161bb8fef69 button.colab-df-convert');\n",
              "        buttonEl.style.display =\n",
              "          google.colab.kernel.accessAllowed ? 'block' : 'none';\n",
              "\n",
              "        async function convertToInteractive(key) {\n",
              "          const element = document.querySelector('#df-2a5f1cc4-a889-4094-aded-6161bb8fef69');\n",
              "          const dataTable =\n",
              "            await google.colab.kernel.invokeFunction('convertToInteractive',\n",
              "                                                     [key], {});\n",
              "          if (!dataTable) return;\n",
              "\n",
              "          const docLinkHtml = 'Like what you see? Visit the ' +\n",
              "            '<a target=\"_blank\" href=https://colab.research.google.com/notebooks/data_table.ipynb>data table notebook</a>'\n",
              "            + ' to learn more about interactive tables.';\n",
              "          element.innerHTML = '';\n",
              "          dataTable['output_type'] = 'display_data';\n",
              "          await google.colab.output.renderOutput(dataTable, element);\n",
              "          const docLink = document.createElement('div');\n",
              "          docLink.innerHTML = docLinkHtml;\n",
              "          element.appendChild(docLink);\n",
              "        }\n",
              "      </script>\n",
              "    </div>\n",
              "  </div>\n",
              "  "
            ]
          },
          "metadata": {},
          "execution_count": 18
        }
      ]
    },
    {
      "cell_type": "code",
      "source": [
        "from sklearn.preprocessing import LabelEncoder\n",
        "le = LabelEncoder()\n",
        "for i in df.columns:\n",
        "  if df[i].dtype =='object':\n",
        "    df[i] = le.fit_transform(df[i])"
      ],
      "metadata": {
        "id": "UmkLHraAZjuf"
      },
      "execution_count": 19,
      "outputs": []
    },
    {
      "cell_type": "code",
      "source": [
        "df.drop(['Qchat_10_Score','new_Qchat_10_score'],axis = 1, inplace = True)"
      ],
      "metadata": {
        "id": "WcAwPSiYZ0W6"
      },
      "execution_count": 20,
      "outputs": []
    },
    {
      "cell_type": "markdown",
      "source": [
        "<a name = Section3></a>\n",
        "### **3.Feature scaling and selection** "
      ],
      "metadata": {
        "id": "98VCeqpVEVl0"
      }
    },
    {
      "cell_type": "code",
      "source": [
        "from sklearn.preprocessing import StandardScaler\n",
        "scaler = StandardScaler()\n",
        "X_scaled = scaler.fit_transform(df.drop(['ASD_traits'],axis =1))"
      ],
      "metadata": {
        "id": "a4KbSp-CEU7J"
      },
      "execution_count": 21,
      "outputs": []
    },
    {
      "cell_type": "code",
      "source": [
        "x = pd.DataFrame(data=X_scaled, columns=df.drop(['ASD_traits'],axis =1).columns)\n",
        "y= df['ASD_traits']"
      ],
      "metadata": {
        "id": "1nbclZ6ME-on"
      },
      "execution_count": 22,
      "outputs": []
    },
    {
      "cell_type": "code",
      "source": [
        "from sklearn.feature_selection import SelectFromModel\n",
        "from yellowbrick.model_selection import FeatureImportances \n",
        "from sklearn.ensemble import RandomForestClassifier\n",
        "selector = SelectFromModel(RandomForestClassifier(n_estimators = 10, random_state = 42))\n",
        "selector.fit(x, y)\n",
        "\n",
        "# Extracting list of important features\n",
        "selected_feat = x.columns[(selector.get_support())].tolist()\n",
        "\n",
        "# Show total number of important features extracted by the model\n",
        "print('Total Features Selected are', len(selected_feat))\n",
        "\n",
        "# Estimated by taking mean(default) of feature importance\n",
        "print('Threshold set by Model:', np.round(selector.threshold_, decimals = 2))\n",
        "print('Important Features:', selected_feat)"
      ],
      "metadata": {
        "colab": {
          "base_uri": "https://localhost:8080/"
        },
        "id": "WqwC9f6NE-lT",
        "outputId": "a26fcb34-ed86-41e1-f10b-96fd47a2dd34"
      },
      "execution_count": 23,
      "outputs": [
        {
          "output_type": "stream",
          "name": "stdout",
          "text": [
            "Total Features Selected are 8\n",
            "Threshold set by Model: 0.04\n",
            "Important Features: [\"CASE_NO_PATIENT'S\", 'A2', 'A4', 'A5', 'A6', 'A7', 'A9', 'Ethnicity']\n"
          ]
        }
      ]
    },
    {
      "cell_type": "code",
      "source": [
        "figure = plt.figure(figsize=[10,10])\n",
        "\n",
        "# If you don't want relative importance, use relative = False in below method\n",
        "viz = FeatureImportances(selector.estimator, relative=False)\n",
        "viz.fit(x, y)\n",
        "\n",
        "plt.xlabel('Relative Importance', size=14)\n",
        "plt.ylabel('Features', size=14)\n",
        "plt.title(label='Feature Importances', size=16)\n",
        "plt.show()"
      ],
      "metadata": {
        "colab": {
          "base_uri": "https://localhost:8080/",
          "height": 627
        },
        "id": "fFAMiyp5FNqO",
        "outputId": "2a26f23e-77e7-4876-d6f4-52054bb4d6ef"
      },
      "execution_count": 24,
      "outputs": [
        {
          "output_type": "display_data",
          "data": {
            "text/plain": [
              "<Figure size 720x720 with 1 Axes>"
            ],
            "image/png": "[encoded data removed]"
          },
          "metadata": {}
        }
      ]
    },
    {
      "cell_type": "markdown",
      "source": [
        "<a name = Section4></a>\n",
        "# **4. Model Development & Evaluation**"
      ],
      "metadata": {
        "id": "23ckwYbjUJ1h"
      }
    },
    {
      "cell_type": "markdown",
      "source": [
        "\n",
        "- In this section, we will develop all possible models and compare the performance.\n",
        "\n",
        "- For estimating the **performance** of the **model** we will be using **accuracy** as a **metric**, as data is balanced Dataset.\n",
        "\n",
        "- Considering the complexity of data, we can run a **loop** over multiple **classifiers** and estimate the accuracy of the model.\n",
        "\n"
      ],
      "metadata": {
        "id": "ZImKdSbjGTF3"
      }
    },
    {
      "cell_type": "markdown",
      "source": [
        "<a name = Section4.1></a>\n",
        "### **4.1. Data Preparation**"
      ],
      "metadata": {
        "id": "nSEdylN94cUc"
      }
    },
    {
      "cell_type": "code",
      "source": [
        "def model_eval(actual,predicted):\n",
        "    acc_score = accuracy_score(actual , predicted)\n",
        "    class_report = classification_report(actual , predicted)\n",
        "    print('The accuracy of the model is : ' ,acc_score)\n",
        "    print(confusion_matrix(actual,predicted))\n",
        "    print(class_report)\n",
        "    "
      ],
      "metadata": {
        "id": "nNsYJyOzCUXp"
      },
      "execution_count": 25,
      "outputs": []
    },
    {
      "cell_type": "code",
      "source": [
        "def confus_matrix(df):\n",
        "    y_train_pred_count = df.predict(x_train)\n",
        "    y_test_pred_count = df.predict(x_test)\n",
        "\n",
        "    fig, (ax1, ax2) = plt.subplots(nrows=1, ncols=2, sharex=False, figsize=(15, 7))\n",
        "    plot_confusion_matrix(estimator=df, X=x_train, y_true=y_train, values_format='.7g', cmap='YlGnBu', ax=ax1)\n",
        "    plot_confusion_matrix(estimator=df, X=x_test, y_true=y_test, values_format='.7g', cmap='YlGnBu', ax=ax2)\n",
        "    ax1.set_title(label='Train Data', size=14)\n",
        "    ax2.set_title(label='Test Data', size=14)\n",
        "    ax1.grid(b=False)\n",
        "    ax2.grid(b=False)\n",
        "    plt.suptitle(t='Confusion Matrix', size=16)\n",
        "    plt.show()"
      ],
      "metadata": {
        "id": "94TIj-iTIsoU"
      },
      "execution_count": 26,
      "outputs": []
    },
    {
      "cell_type": "markdown",
      "source": [
        "**Now we will split our data in training and testing part for further development**"
      ],
      "metadata": {
        "id": "KgEnnoWPFZ4S"
      }
    },
    {
      "cell_type": "code",
      "source": [
        "x_train,x_test,y_train,y_test = train_test_split(x,y,test_size =0.2,random_state=365,stratify = y )"
      ],
      "metadata": {
        "id": "stcK_nMxED1c"
      },
      "execution_count": 27,
      "outputs": []
    },
    {
      "cell_type": "code",
      "source": [
        "print('Training Data Shape:', x_train.shape, y_train.shape)\n",
        "print('Testing Data Shape:', x_test.shape, y_test.shape)"
      ],
      "metadata": {
        "colab": {
          "base_uri": "https://localhost:8080/"
        },
        "id": "VmcCEiaYF91K",
        "outputId": "f4cfe980-8700-4d82-a5b8-58a3484075cb"
      },
      "execution_count": 28,
      "outputs": [
        {
          "output_type": "stream",
          "name": "stdout",
          "text": [
            "Training Data Shape: (696, 26) (696,)\n",
            "Testing Data Shape: (175, 26) (175,)\n"
          ]
        }
      ]
    },
    {
      "cell_type": "markdown",
      "source": [
        "<a name = Section4.2></a>\n",
        "### **4.2. Logistic Regression**"
      ],
      "metadata": {
        "id": "mM5FSIE5DFDj"
      }
    },
    {
      "cell_type": "code",
      "source": [
        "logreg = LogisticRegression()\n",
        "logreg.fit(x_train,y_train)\n",
        "y_lr_train_pred = logreg.predict(x_train)\n",
        "y_lr_test_pred = logreg.predict(x_test)"
      ],
      "metadata": {
        "id": "EZREuE22CUVA"
      },
      "execution_count": 29,
      "outputs": []
    },
    {
      "cell_type": "code",
      "source": [
        "model_eval(y_train,y_lr_train_pred)"
      ],
      "metadata": {
        "colab": {
          "base_uri": "https://localhost:8080/"
        },
        "id": "-wSoIZvKCUSW",
        "outputId": "21dff9c7-a680-4f87-f7e2-b21757070c65"
      },
      "execution_count": 30,
      "outputs": [
        {
          "output_type": "stream",
          "name": "stdout",
          "text": [
            "The accuracy of the model is :  0.9971264367816092\n",
            "[[281   0]\n",
            " [  2 413]]\n",
            "              precision    recall  f1-score   support\n",
            "\n",
            "           0       0.99      1.00      1.00       281\n",
            "           1       1.00      1.00      1.00       415\n",
            "\n",
            "    accuracy                           1.00       696\n",
            "   macro avg       1.00      1.00      1.00       696\n",
            "weighted avg       1.00      1.00      1.00       696\n",
            "\n"
          ]
        }
      ]
    },
    {
      "cell_type": "code",
      "source": [
        "model_eval(y_test,y_lr_test_pred)"
      ],
      "metadata": {
        "colab": {
          "base_uri": "https://localhost:8080/"
        },
        "id": "Onz3avwrH6x0",
        "outputId": "1dce0792-5070-4e75-a532-cf08b6988758"
      },
      "execution_count": 31,
      "outputs": [
        {
          "output_type": "stream",
          "name": "stdout",
          "text": [
            "The accuracy of the model is :  0.9828571428571429\n",
            "[[ 68   3]\n",
            " [  0 104]]\n",
            "              precision    recall  f1-score   support\n",
            "\n",
            "           0       1.00      0.96      0.98        71\n",
            "           1       0.97      1.00      0.99       104\n",
            "\n",
            "    accuracy                           0.98       175\n",
            "   macro avg       0.99      0.98      0.98       175\n",
            "weighted avg       0.98      0.98      0.98       175\n",
            "\n"
          ]
        }
      ]
    },
    {
      "cell_type": "code",
      "source": [
        "confus_matrix(logreg)"
      ],
      "metadata": {
        "colab": {
          "base_uri": "https://localhost:8080/",
          "height": 468
        },
        "id": "2iWIPPKTH6uD",
        "outputId": "6dfe99e5-ee94-40d3-9f68-5f90b4b4320a"
      },
      "execution_count": 32,
      "outputs": [
        {
          "output_type": "display_data",
          "data": {
            "text/plain": [
              "<Figure size 1080x504 with 4 Axes>"
            ],
            "image/png": "[encoded data removed]"
          },
          "metadata": {}
        }
      ]
    },
    {
      "cell_type": "code",
      "source": [
        "from sklearn import metrics\n",
        "\n",
        "probs = logreg.predict_proba(x_test)\n",
        "preds = probs[:,1]\n",
        "fpr, tpr, threshold = metrics.roc_curve(y_test, preds)\n",
        "roc_auc = metrics.auc(fpr, tpr)\n",
        "\n",
        "plt.title('Receiver Operating Characteristic')\n",
        "plt.plot(fpr, tpr, 'b', label = 'AUC = %0.2f' % roc_auc)\n",
        "plt.legend(loc = 'lower right')\n",
        "plt.plot([0, 1], [0, 1],'r--')\n",
        "plt.xlim([0, 1])\n",
        "plt.ylim([0, 1])\n",
        "plt.ylabel('True Positive Rate')\n",
        "plt.xlabel('False Positive Rate')\n",
        "plt.show()"
      ],
      "metadata": {
        "colab": {
          "base_uri": "https://localhost:8080/",
          "height": 376
        },
        "id": "4TEFJzOuIqQS",
        "outputId": "9ee95dbd-26a4-40da-8fb2-06f85a2113ad"
      },
      "execution_count": 33,
      "outputs": [
        {
          "output_type": "display_data",
          "data": {
            "text/plain": [
              "<Figure size 576x396 with 1 Axes>"
            ],
            "image/png": "[encoded data removed]"
          },
          "metadata": {}
        }
      ]
    },
    {
      "cell_type": "markdown",
      "source": [
        "<a name = Section4.3></a>\n",
        "### **4.3. RandomForest Classifier**"
      ],
      "metadata": {
        "id": "634s60ioKDZv"
      }
    },
    {
      "cell_type": "code",
      "source": [
        "rf = RandomForestClassifier(n_estimators=100,max_depth=7,n_jobs=-1)\n",
        "rf.fit(x_train,y_train)\n",
        "y_rf_train_pred = rf.predict(x_train)\n",
        "y_rf_test_pred = rf.predict(x_test)"
      ],
      "metadata": {
        "id": "p4xjNkiaKDEI"
      },
      "execution_count": 34,
      "outputs": []
    },
    {
      "cell_type": "code",
      "source": [
        "model_eval(y_train,y_rf_train_pred)"
      ],
      "metadata": {
        "colab": {
          "base_uri": "https://localhost:8080/"
        },
        "id": "9nHGNsUWH6rK",
        "outputId": "a49d2661-0a7e-437d-881b-9156f45c26b7"
      },
      "execution_count": 35,
      "outputs": [
        {
          "output_type": "stream",
          "name": "stdout",
          "text": [
            "The accuracy of the model is :  0.9971264367816092\n",
            "[[279   2]\n",
            " [  0 415]]\n",
            "              precision    recall  f1-score   support\n",
            "\n",
            "           0       1.00      0.99      1.00       281\n",
            "           1       1.00      1.00      1.00       415\n",
            "\n",
            "    accuracy                           1.00       696\n",
            "   macro avg       1.00      1.00      1.00       696\n",
            "weighted avg       1.00      1.00      1.00       696\n",
            "\n"
          ]
        }
      ]
    },
    {
      "cell_type": "code",
      "source": [
        "model_eval(y_test,y_rf_test_pred)"
      ],
      "metadata": {
        "colab": {
          "base_uri": "https://localhost:8080/"
        },
        "id": "-uEehmCBMFH2",
        "outputId": "5c87aa2c-f81d-4a6a-8853-dfc61aa31338"
      },
      "execution_count": 36,
      "outputs": [
        {
          "output_type": "stream",
          "name": "stdout",
          "text": [
            "The accuracy of the model is :  0.9657142857142857\n",
            "[[ 66   5]\n",
            " [  1 103]]\n",
            "              precision    recall  f1-score   support\n",
            "\n",
            "           0       0.99      0.93      0.96        71\n",
            "           1       0.95      0.99      0.97       104\n",
            "\n",
            "    accuracy                           0.97       175\n",
            "   macro avg       0.97      0.96      0.96       175\n",
            "weighted avg       0.97      0.97      0.97       175\n",
            "\n"
          ]
        }
      ]
    },
    {
      "cell_type": "code",
      "source": [
        "confus_matrix(rf)"
      ],
      "metadata": {
        "colab": {
          "base_uri": "https://localhost:8080/",
          "height": 468
        },
        "id": "d3INzeuZLlun",
        "outputId": "23990e25-a176-478b-8bad-635132a84720"
      },
      "execution_count": 37,
      "outputs": [
        {
          "output_type": "display_data",
          "data": {
            "text/plain": [
              "<Figure size 1080x504 with 4 Axes>"
            ],
            "image/png": "[encoded data removed]"
          },
          "metadata": {}
        }
      ]
    },
    {
      "cell_type": "code",
      "source": [
        "from sklearn import metrics\n",
        "\n",
        "probs = rf.predict_proba(x_test)\n",
        "preds = probs[:,1]\n",
        "fpr, tpr, threshold = metrics.roc_curve(y_test, preds)\n",
        "roc_auc = metrics.auc(fpr, tpr)\n",
        "\n",
        "plt.title('Receiver Operating Characteristic')\n",
        "plt.plot(fpr, tpr, 'b', label = 'AUC = %0.2f' % roc_auc)\n",
        "plt.legend(loc = 'lower right')\n",
        "plt.plot([0, 1], [0, 1],'r--')\n",
        "plt.xlim([0, 1])\n",
        "plt.ylim([0, 1])\n",
        "plt.ylabel('True Positive Rate')\n",
        "plt.xlabel('False Positive Rate')\n",
        "plt.show()"
      ],
      "metadata": {
        "colab": {
          "base_uri": "https://localhost:8080/",
          "height": 376
        },
        "id": "P6uyPjKPKxkB",
        "outputId": "57f7cee0-5e62-430e-fcb4-9417a15538e5"
      },
      "execution_count": 38,
      "outputs": [
        {
          "output_type": "display_data",
          "data": {
            "text/plain": [
              "<Figure size 576x396 with 1 Axes>"
            ],
            "image/png": "[encoded data removed]"
          },
          "metadata": {}
        }
      ]
    },
    {
      "cell_type": "markdown",
      "source": [
        "<a name = Section4.4></a>\n",
        "### **4.4. Decision Tree Classifier**"
      ],
      "metadata": {
        "id": "7CTlSJXeWy0d"
      }
    },
    {
      "cell_type": "code",
      "source": [
        "dtree = DecisionTreeClassifier()\n",
        "dtree.fit(x_train,y_train)\n",
        "preds_dtree_train = dtree.predict(x_train)\n",
        "preds_dtree_test = dtree.predict(x_test)"
      ],
      "metadata": {
        "id": "3Mv6-kheeprC"
      },
      "execution_count": 39,
      "outputs": []
    },
    {
      "cell_type": "code",
      "source": [
        "model_eval(y_train,preds_dtree_train)"
      ],
      "metadata": {
        "colab": {
          "base_uri": "https://localhost:8080/"
        },
        "id": "XKa9uFUee2XC",
        "outputId": "2ac0872a-2b32-4b4d-a239-15935ac027ed"
      },
      "execution_count": 40,
      "outputs": [
        {
          "output_type": "stream",
          "name": "stdout",
          "text": [
            "The accuracy of the model is :  1.0\n",
            "[[281   0]\n",
            " [  0 415]]\n",
            "              precision    recall  f1-score   support\n",
            "\n",
            "           0       1.00      1.00      1.00       281\n",
            "           1       1.00      1.00      1.00       415\n",
            "\n",
            "    accuracy                           1.00       696\n",
            "   macro avg       1.00      1.00      1.00       696\n",
            "weighted avg       1.00      1.00      1.00       696\n",
            "\n"
          ]
        }
      ]
    },
    {
      "cell_type": "code",
      "source": [
        "model_eval(y_test,preds_dtree_test)"
      ],
      "metadata": {
        "colab": {
          "base_uri": "https://localhost:8080/"
        },
        "id": "P-LOkbYterHo",
        "outputId": "a79eb320-f773-4e90-d87b-3e6b0725a22f"
      },
      "execution_count": 41,
      "outputs": [
        {
          "output_type": "stream",
          "name": "stdout",
          "text": [
            "The accuracy of the model is :  0.9085714285714286\n",
            "[[61 10]\n",
            " [ 6 98]]\n",
            "              precision    recall  f1-score   support\n",
            "\n",
            "           0       0.91      0.86      0.88        71\n",
            "           1       0.91      0.94      0.92       104\n",
            "\n",
            "    accuracy                           0.91       175\n",
            "   macro avg       0.91      0.90      0.90       175\n",
            "weighted avg       0.91      0.91      0.91       175\n",
            "\n"
          ]
        }
      ]
    },
    {
      "cell_type": "markdown",
      "source": [
        "<a name = Section4.5</a>\n",
        "### **4.5. Naive Bayes**"
      ],
      "metadata": {
        "id": "ACMT_ej4cG1G"
      }
    },
    {
      "cell_type": "code",
      "source": [
        "naive = GaussianNB()\n",
        "naive.fit(x_train, y_train)\n",
        "\n",
        "y_train_pred_count = naive.predict(x_train)\n",
        "y_test_pred_count = naive.predict(x_test)\n",
        "\n",
        "y_train_pred_proba = naive.predict_proba(x_train)\n",
        "y_test_pred_proba = naive.predict_proba(x_test)\n",
        "\n",
        "fig, (ax1, ax2) = plt.subplots(nrows = 1, ncols = 2, sharex = False, figsize=(15, 7))\n",
        "plot_confusion_matrix(estimator = naive, X = x_train, y_true = y_train, values_format = '.7g', cmap = 'YlGnBu', ax = ax1)\n",
        "plot_confusion_matrix(estimator = naive, X = x_test, y_true = y_test, values_format = '.7g', cmap = 'YlGnBu', ax = ax2)\n",
        "ax1.set_title(label = 'Train Data', size = 14)\n",
        "ax2.set_title(label = 'Test Data', size = 14)\n",
        "ax1.grid(b = False)\n",
        "ax2.grid(b = False)\n",
        "plt.suptitle(t = 'Confusion Matrix', size = 16)\n",
        "plt.show()"
      ],
      "metadata": {
        "colab": {
          "base_uri": "https://localhost:8080/",
          "height": 463
        },
        "id": "xKvlB2KGcMmF",
        "outputId": "33229e68-00b1-405b-cc70-bb6ed706085f"
      },
      "execution_count": 42,
      "outputs": [
        {
          "output_type": "display_data",
          "data": {
            "text/plain": [
              "<Figure size 1080x504 with 4 Axes>"
            ],
            "image/png": "[encoded data removed]"
          },
          "metadata": {}
        }
      ]
    },
    {
      "cell_type": "code",
      "source": [
        "model_eval(y_test,y_test_pred_count)"
      ],
      "metadata": {
        "colab": {
          "base_uri": "https://localhost:8080/"
        },
        "id": "iuxX_yY9cYin",
        "outputId": "dd524cc1-cc2b-4e44-a1bd-ee777cbda7ce"
      },
      "execution_count": 43,
      "outputs": [
        {
          "output_type": "stream",
          "name": "stdout",
          "text": [
            "The accuracy of the model is :  0.7657142857142857\n",
            "[[39 32]\n",
            " [ 9 95]]\n",
            "              precision    recall  f1-score   support\n",
            "\n",
            "           0       0.81      0.55      0.66        71\n",
            "           1       0.75      0.91      0.82       104\n",
            "\n",
            "    accuracy                           0.77       175\n",
            "   macro avg       0.78      0.73      0.74       175\n",
            "weighted avg       0.77      0.77      0.75       175\n",
            "\n"
          ]
        }
      ]
    },
    {
      "cell_type": "markdown",
      "source": [
        "<a name = Section4.6></a>\n",
        "### **4.6 Ada boosting**"
      ],
      "metadata": {
        "id": "-d5tzymeWt91"
      }
    },
    {
      "cell_type": "code",
      "source": [
        "ada = AdaBoostClassifier()\n",
        "ada.fit(x_train, y_train)\n",
        "preds_ada_train = ada.predict(x_train)\n",
        "preds_ada_test = ada.predict(x_test)\n",
        "print(\"Model evaluating for Test Data : \\n\")\n",
        "print('------------------------------------------------------')\n",
        "print(model_eval(y_test,preds_ada_test))\n",
        "print('------------------------------------------------------')\n",
        "print(\"Model evaluating for Train Data : \\n\")\n",
        "print('------------------------------------------------------')\n",
        "print(model_eval(y_train,preds_ada_train))"
      ],
      "metadata": {
        "colab": {
          "base_uri": "https://localhost:8080/"
        },
        "id": "e62zG_EoagDs",
        "outputId": "1ee6b0ba-f376-401f-adf7-3c5a5cf7e984"
      },
      "execution_count": 44,
      "outputs": [
        {
          "output_type": "stream",
          "name": "stdout",
          "text": [
            "Model evaluating for Test Data : \n",
            "\n",
            "------------------------------------------------------\n",
            "The accuracy of the model is :  0.9314285714285714\n",
            "[[64  7]\n",
            " [ 5 99]]\n",
            "              precision    recall  f1-score   support\n",
            "\n",
            "           0       0.93      0.90      0.91        71\n",
            "           1       0.93      0.95      0.94       104\n",
            "\n",
            "    accuracy                           0.93       175\n",
            "   macro avg       0.93      0.93      0.93       175\n",
            "weighted avg       0.93      0.93      0.93       175\n",
            "\n",
            "None\n",
            "------------------------------------------------------\n",
            "Model evaluating for Train Data : \n",
            "\n",
            "------------------------------------------------------\n",
            "The accuracy of the model is :  0.985632183908046\n",
            "[[277   4]\n",
            " [  6 409]]\n",
            "              precision    recall  f1-score   support\n",
            "\n",
            "           0       0.98      0.99      0.98       281\n",
            "           1       0.99      0.99      0.99       415\n",
            "\n",
            "    accuracy                           0.99       696\n",
            "   macro avg       0.98      0.99      0.99       696\n",
            "weighted avg       0.99      0.99      0.99       696\n",
            "\n",
            "None\n"
          ]
        }
      ]
    },
    {
      "cell_type": "markdown",
      "source": [
        "<a name = Section4.7></a>\n",
        "### **4.7 XG Boost Classifier**"
      ],
      "metadata": {
        "id": "GNjzbpsUW5LL"
      }
    },
    {
      "cell_type": "code",
      "source": [
        "xgb = XGBClassifier()\n",
        "xgb.fit(x_train, y_train)\n",
        "preds_xgb_train = xgb.predict(x_train)\n",
        "preds_xgb_test = xgb.predict(x_test)\n",
        "print(\"Model evaluating for Test Data : \\n\")\n",
        "print('------------------------------------------------------')\n",
        "print(model_eval(y_test,preds_xgb_test))\n",
        "print('------------------------------------------------------')\n",
        "print(\"Model evaluating for Train Data : \\n\")\n",
        "print('------------------------------------------------------')\n",
        "print(model_eval(y_train,preds_xgb_train))"
      ],
      "metadata": {
        "colab": {
          "base_uri": "https://localhost:8080/"
        },
        "id": "JE5sa1WCW2kQ",
        "outputId": "5f23c795-edaf-4168-8fc8-0c8509a98d87"
      },
      "execution_count": 45,
      "outputs": [
        {
          "output_type": "stream",
          "name": "stdout",
          "text": [
            "Model evaluating for Test Data : \n",
            "\n",
            "------------------------------------------------------\n",
            "The accuracy of the model is :  0.9657142857142857\n",
            "[[ 67   4]\n",
            " [  2 102]]\n",
            "              precision    recall  f1-score   support\n",
            "\n",
            "           0       0.97      0.94      0.96        71\n",
            "           1       0.96      0.98      0.97       104\n",
            "\n",
            "    accuracy                           0.97       175\n",
            "   macro avg       0.97      0.96      0.96       175\n",
            "weighted avg       0.97      0.97      0.97       175\n",
            "\n",
            "None\n",
            "------------------------------------------------------\n",
            "Model evaluating for Train Data : \n",
            "\n",
            "------------------------------------------------------\n",
            "The accuracy of the model is :  0.9971264367816092\n",
            "[[281   0]\n",
            " [  2 413]]\n",
            "              precision    recall  f1-score   support\n",
            "\n",
            "           0       0.99      1.00      1.00       281\n",
            "           1       1.00      1.00      1.00       415\n",
            "\n",
            "    accuracy                           1.00       696\n",
            "   macro avg       1.00      1.00      1.00       696\n",
            "weighted avg       1.00      1.00      1.00       696\n",
            "\n",
            "None\n"
          ]
        }
      ]
    },
    {
      "cell_type": "code",
      "source": [],
      "metadata": {
        "id": "UKHoVaO5Wq4B"
      },
      "execution_count": 45,
      "outputs": []
    },
    {
      "cell_type": "markdown",
      "source": [
        "<a name = Section4.8></a>\n",
        "### **4.8 GradientBoostingClassifier**"
      ],
      "metadata": {
        "id": "YbgiVglOfk9-"
      }
    },
    {
      "cell_type": "code",
      "source": [
        "gbc = GradientBoostingClassifier(n_estimators=100,max_depth=7)\n",
        "gbc.fit(x_train, y_train)\n",
        "preds_gbc_train = gbc.predict(x_train)\n",
        "preds_gbc_test = gbc.predict(x_test)\n",
        "print(\"Model evaluating for Test Data : \\n\")\n",
        "print('------------------------------------------------------')\n",
        "print(model_eval(y_test,preds_gbc_test))\n",
        "print('------------------------------------------------------')\n",
        "print(\"Model evaluating for Train Data : \\n\")\n",
        "print('------------------------------------------------------')\n",
        "print(model_eval(y_train,preds_gbc_train))"
      ],
      "metadata": {
        "colab": {
          "base_uri": "https://localhost:8080/"
        },
        "id": "kVEJzyf3gyM2",
        "outputId": "452fe555-3e4a-4a6a-bef1-deda1f664b26"
      },
      "execution_count": 46,
      "outputs": [
        {
          "output_type": "stream",
          "name": "stdout",
          "text": [
            "Model evaluating for Test Data : \n",
            "\n",
            "------------------------------------------------------\n",
            "The accuracy of the model is :  0.9371428571428572\n",
            "[[ 64   7]\n",
            " [  4 100]]\n",
            "              precision    recall  f1-score   support\n",
            "\n",
            "           0       0.94      0.90      0.92        71\n",
            "           1       0.93      0.96      0.95       104\n",
            "\n",
            "    accuracy                           0.94       175\n",
            "   macro avg       0.94      0.93      0.93       175\n",
            "weighted avg       0.94      0.94      0.94       175\n",
            "\n",
            "None\n",
            "------------------------------------------------------\n",
            "Model evaluating for Train Data : \n",
            "\n",
            "------------------------------------------------------\n",
            "The accuracy of the model is :  1.0\n",
            "[[281   0]\n",
            " [  0 415]]\n",
            "              precision    recall  f1-score   support\n",
            "\n",
            "           0       1.00      1.00      1.00       281\n",
            "           1       1.00      1.00      1.00       415\n",
            "\n",
            "    accuracy                           1.00       696\n",
            "   macro avg       1.00      1.00      1.00       696\n",
            "weighted avg       1.00      1.00      1.00       696\n",
            "\n",
            "None\n"
          ]
        }
      ]
    },
    {
      "cell_type": "markdown",
      "source": [
        "\n",
        "<a name = Section5></a>\n",
        "# **5. Hyperparameter Tuning** "
      ],
      "metadata": {
        "id": "ftUt4P5tT-LH"
      }
    },
    {
      "cell_type": "markdown",
      "source": [
        "<a name = Section5.1></a>\n",
        "### **5.1 RandomizedSearchCV With RandomForest**"
      ],
      "metadata": {
        "id": "G-hUpHsxLv5i"
      }
    },
    {
      "cell_type": "code",
      "source": [
        "params = {\n",
        "    'max_depth':[5,10,20,30],\n",
        "    'max_leaf_nodes':[16,32,64,128],\n",
        "    'min_samples_leaf':[10,20,30,40,60,80]\n",
        "}\n",
        "rf_search_cv = RandomizedSearchCV(estimator=RandomForestClassifier(n_jobs=-1,random_state=42,\n",
        "                                                                 class_weight='balanced'),\n",
        "                                param_distributions=params,\n",
        "                                 n_jobs = -1,\n",
        "                                 random_state=42,\n",
        "                                 scoring='roc_auc'\n",
        "                                )\n",
        "rf_search_cv.fit(x_train,y_train)"
      ],
      "metadata": {
        "colab": {
          "base_uri": "https://localhost:8080/"
        },
        "id": "APoCWt0XLt5h",
        "outputId": "83b135b8-1959-4ce1-cadf-534a5e1639b6"
      },
      "execution_count": 47,
      "outputs": [
        {
          "output_type": "execute_result",
          "data": {
            "text/plain": [
              "RandomizedSearchCV(estimator=RandomForestClassifier(class_weight='balanced',\n",
              "                                                    n_jobs=-1,\n",
              "                                                    random_state=42),\n",
              "                   n_jobs=-1,\n",
              "                   param_distributions={'max_depth': [5, 10, 20, 30],\n",
              "                                        'max_leaf_nodes': [16, 32, 64, 128],\n",
              "                                        'min_samples_leaf': [10, 20, 30, 40, 60,\n",
              "                                                             80]},\n",
              "                   random_state=42, scoring='roc_auc')"
            ]
          },
          "metadata": {},
          "execution_count": 47
        }
      ]
    },
    {
      "cell_type": "code",
      "source": [
        "y_rscv_train_pred = rf_search_cv.predict(x_train)\n",
        "y_rscv_test_pred = rf_search_cv.predict(x_test)"
      ],
      "metadata": {
        "id": "RZ5vwYjIM7hK"
      },
      "execution_count": 48,
      "outputs": []
    },
    {
      "cell_type": "code",
      "source": [
        "model_eval(y_test,y_rscv_test_pred)"
      ],
      "metadata": {
        "colab": {
          "base_uri": "https://localhost:8080/"
        },
        "id": "QXL0cdMkNIbU",
        "outputId": "00c775c9-f4f3-41ff-ac12-cf9c054732a8"
      },
      "execution_count": 49,
      "outputs": [
        {
          "output_type": "stream",
          "name": "stdout",
          "text": [
            "The accuracy of the model is :  0.9428571428571428\n",
            "[[67  4]\n",
            " [ 6 98]]\n",
            "              precision    recall  f1-score   support\n",
            "\n",
            "           0       0.92      0.94      0.93        71\n",
            "           1       0.96      0.94      0.95       104\n",
            "\n",
            "    accuracy                           0.94       175\n",
            "   macro avg       0.94      0.94      0.94       175\n",
            "weighted avg       0.94      0.94      0.94       175\n",
            "\n"
          ]
        }
      ]
    },
    {
      "cell_type": "code",
      "source": [
        "confus_matrix(rf_search_cv)"
      ],
      "metadata": {
        "colab": {
          "base_uri": "https://localhost:8080/",
          "height": 462
        },
        "id": "1xsFZxShNmQY",
        "outputId": "83e1e536-eb45-4343-b7fc-cfe9746485bf"
      },
      "execution_count": 50,
      "outputs": [
        {
          "output_type": "display_data",
          "data": {
            "text/plain": [
              "<Figure size 1080x504 with 4 Axes>"
            ],
            "image/png": "[encoded data removed]"
          },
          "metadata": {}
        }
      ]
    },
    {
      "cell_type": "code",
      "source": [
        "from sklearn import metrics\n",
        "\n",
        "probs = rf_search_cv.predict_proba(x_test)\n",
        "preds = probs[:,1]\n",
        "fpr, tpr, threshold = metrics.roc_curve(y_test, preds)\n",
        "roc_auc = metrics.auc(fpr, tpr)\n",
        "\n",
        "plt.title('Receiver Operating Characteristic')\n",
        "plt.plot(fpr, tpr, 'b', label = 'AUC = %0.2f' % roc_auc)\n",
        "plt.legend(loc = 'lower right')\n",
        "plt.plot([0, 1], [0, 1],'r--')\n",
        "plt.xlim([0, 1])\n",
        "plt.ylim([0, 1])\n",
        "plt.ylabel('True Positive Rate')\n",
        "plt.xlabel('False Positive Rate')\n",
        "plt.show()\n"
      ],
      "metadata": {
        "colab": {
          "base_uri": "https://localhost:8080/",
          "height": 376
        },
        "id": "7MIM0L55Liqv",
        "outputId": "91348bcb-e43b-40a0-bfaa-4d2a023af816"
      },
      "execution_count": 51,
      "outputs": [
        {
          "output_type": "display_data",
          "data": {
            "text/plain": [
              "<Figure size 576x396 with 1 Axes>"
            ],
            "image/png": "[encoded data removed]"
          },
          "metadata": {}
        }
      ]
    },
    {
      "cell_type": "markdown",
      "source": [
        "<a name = Section5.2></a>\n",
        "### **5.2 GridSearchCV with Decision Tree Classifier**"
      ],
      "metadata": {
        "id": "5K-57Zn7XKr-"
      }
    },
    {
      "cell_type": "code",
      "source": [
        "param_gcv = {'max_depth': [4,8,10],'min_samples_split': [2,5,10],'min_samples_leaf': [1,2,4]}\n",
        "\n",
        "gcv = GridSearchCV(estimator = dtree,param_grid = param_gcv,cv = 5)\n",
        "\n",
        "gcv.fit(x_train, y_train)\n",
        "\n",
        "# Predicting training and testing labels\n",
        "preds_gcv_train = gcv.predict(x_train)\n",
        "preds_gcv_test = gcv.predict(x_test)\n",
        "print(\"Model evaluating for Test Data : \\n\")\n",
        "print('------------------------------------------------------')\n",
        "print(model_eval(y_test,preds_gcv_test))\n",
        "print('------------------------------------------------------')\n",
        "print(\"Model evaluating for Train Data : \\n\")\n",
        "print('------------------------------------------------------')\n",
        "print(model_eval(y_train,preds_gcv_train))"
      ],
      "metadata": {
        "colab": {
          "base_uri": "https://localhost:8080/"
        },
        "id": "utCsZr05Xci9",
        "outputId": "5a321e0f-b454-40e3-813a-36156bf536b4"
      },
      "execution_count": 52,
      "outputs": [
        {
          "output_type": "stream",
          "name": "stdout",
          "text": [
            "Model evaluating for Test Data : \n",
            "\n",
            "------------------------------------------------------\n",
            "The accuracy of the model is :  0.9257142857142857\n",
            "[[ 62   9]\n",
            " [  4 100]]\n",
            "              precision    recall  f1-score   support\n",
            "\n",
            "           0       0.94      0.87      0.91        71\n",
            "           1       0.92      0.96      0.94       104\n",
            "\n",
            "    accuracy                           0.93       175\n",
            "   macro avg       0.93      0.92      0.92       175\n",
            "weighted avg       0.93      0.93      0.93       175\n",
            "\n",
            "None\n",
            "------------------------------------------------------\n",
            "Model evaluating for Train Data : \n",
            "\n",
            "------------------------------------------------------\n",
            "The accuracy of the model is :  0.9899425287356322\n",
            "[[278   3]\n",
            " [  4 411]]\n",
            "              precision    recall  f1-score   support\n",
            "\n",
            "           0       0.99      0.99      0.99       281\n",
            "           1       0.99      0.99      0.99       415\n",
            "\n",
            "    accuracy                           0.99       696\n",
            "   macro avg       0.99      0.99      0.99       696\n",
            "weighted avg       0.99      0.99      0.99       696\n",
            "\n",
            "None\n"
          ]
        }
      ]
    },
    {
      "cell_type": "code",
      "source": [],
      "metadata": {
        "id": "F6cQpq7DXcfz"
      },
      "execution_count": 52,
      "outputs": []
    },
    {
      "cell_type": "markdown",
      "source": [
        "<a name = Section6></a>\n",
        "# **6. Tune Model With Cross Validation**"
      ],
      "metadata": {
        "id": "BDe0enOOXejh"
      }
    },
    {
      "cell_type": "markdown",
      "source": [
        "<a name = Section61></a>\n",
        "### **6.1 Logistic Regression**"
      ],
      "metadata": {
        "id": "P3F2hz4FXvj1"
      }
    },
    {
      "cell_type": "code",
      "source": [
        "from sklearn import model_selection\n",
        "kfold = model_selection.KFold(n_splits=10,shuffle=True,random_state=2)\n",
        "modelLR = LogisticRegression()\n",
        "results = model_selection.cross_val_score(modelLR, x_train, y_train, cv=kfold, scoring='accuracy')\n",
        "print(\"10-fold cross validation average Accuracy score for Logistic Regression: %.3f\" % (results.mean()))"
      ],
      "metadata": {
        "colab": {
          "base_uri": "https://localhost:8080/"
        },
        "id": "bf0G_jEQYED9",
        "outputId": "4943afc0-f086-47d6-a775-e6996e185793"
      },
      "execution_count": 53,
      "outputs": [
        {
          "output_type": "stream",
          "name": "stdout",
          "text": [
            "10-fold cross validation average Accuracy score for Logistic Regression: 0.984\n"
          ]
        }
      ]
    },
    {
      "cell_type": "markdown",
      "source": [
        "<a name = Section6.2></a>\n",
        "### **6.2 Ada boosting**"
      ],
      "metadata": {
        "id": "QpBnnwIdXvgV"
      }
    },
    {
      "cell_type": "code",
      "source": [
        "score = []\n",
        "for depth in [1,2,10] : \n",
        "    reg_ada = AdaBoostClassifier(DecisionTreeClassifier(max_depth=depth))\n",
        "    scores_ada = model_selection.cross_val_score(reg_ada, x, y, cv=10)\n",
        "    score.append(scores_ada.mean())\n",
        "print(score)"
      ],
      "metadata": {
        "colab": {
          "base_uri": "https://localhost:8080/"
        },
        "id": "hSY-rIDOYZVW",
        "outputId": "c5a1d4fa-3ce4-41d1-d8f9-063e8de76251"
      },
      "execution_count": 54,
      "outputs": [
        {
          "output_type": "stream",
          "name": "stdout",
          "text": [
            "[0.8782262277951933, 0.8678944618599791, 0.7806034482758621]\n"
          ]
        }
      ]
    },
    {
      "cell_type": "markdown",
      "source": [
        "<a name = Section6.3></a>\n",
        "### **6.3 GradientBoosting**"
      ],
      "metadata": {
        "id": "9jZOqeusixQi"
      }
    },
    {
      "cell_type": "code",
      "source": [
        "from sklearn.model_selection import KFold\n",
        "from sklearn.metrics import make_scorer\n",
        "\n",
        "scoring = {'accuracy' : make_scorer(accuracy_score), \n",
        "           'precision' : make_scorer(precision_score),\n",
        "           'recall' : make_scorer(recall_score), \n",
        "           'f1_score' : make_scorer(f1_score)}\n",
        "model_gb = GradientBoostingClassifier(n_estimators=50, random_state=1, learning_rate = 0.10) \n",
        "\n",
        "results_gb = model_selection.cross_validate(model_gb, x,y, cv=10, scoring=scoring)"
      ],
      "metadata": {
        "id": "C4ojIm2Zflgd"
      },
      "execution_count": 55,
      "outputs": []
    },
    {
      "cell_type": "code",
      "source": [
        "results_gb_df=pd.DataFrame.from_dict(results_gb)\n",
        "results_gb_df.mean()"
      ],
      "metadata": {
        "colab": {
          "base_uri": "https://localhost:8080/"
        },
        "id": "oeuxwArefpfk",
        "outputId": "e1a4026d-0b74-4e48-c016-2a40d7dba484"
      },
      "execution_count": 56,
      "outputs": [
        {
          "output_type": "execute_result",
          "data": {
            "text/plain": [
              "fit_time          0.080554\n",
              "score_time        0.004713\n",
              "test_accuracy     0.831100\n",
              "test_precision    0.933065\n",
              "test_recall       0.792270\n",
              "test_f1_score     0.791112\n",
              "dtype: float64"
            ]
          },
          "metadata": {},
          "execution_count": 56
        }
      ]
    },
    {
      "cell_type": "markdown",
      "source": [
        "<a name = Section6.4></a>\n",
        "### **6.4 XGboost classifier**"
      ],
      "metadata": {
        "id": "TAsloiOfXvdn"
      }
    },
    {
      "cell_type": "code",
      "source": [
        "kfold = KFold(n_splits=10)\n",
        "XGB_cv = XGBClassifier(n_estimators=100, random_state=1, learning_rate = 0.1)\n",
        "results_xgb = model_selection.cross_val_score(XGB_cv, x, y, cv=kfold)\n",
        "\n",
        "print('test accuracy: ',results_xgb.mean())"
      ],
      "metadata": {
        "colab": {
          "base_uri": "https://localhost:8080/"
        },
        "id": "YbnUy_VZk8b1",
        "outputId": "745d9edc-1f0f-49e3-e6c2-1d4c4aaebb81"
      },
      "execution_count": 57,
      "outputs": [
        {
          "output_type": "stream",
          "name": "stdout",
          "text": [
            "test accuracy:  0.9402690700104493\n"
          ]
        }
      ]
    },
    {
      "cell_type": "markdown",
      "source": [],
      "metadata": {
        "id": "VtQPCPctXvaz"
      }
    },
    {
      "cell_type": "code",
      "source": [],
      "metadata": {
        "id": "N_MStKoYXq64"
      },
      "execution_count": 57,
      "outputs": []
    },
    {
      "cell_type": "code",
      "source": [],
      "metadata": {
        "id": "V1VZz97cXq3p"
      },
      "execution_count": 57,
      "outputs": []
    },
    {
      "cell_type": "markdown",
      "source": [
        "<a name = Section7></a>\n",
        "# **7. Selecting Best Model**"
      ],
      "metadata": {
        "id": "RB0fJznKUawi"
      }
    },
    {
      "cell_type": "code",
      "source": [
        "model_dict = {'Logistic Model':[accuracy_score(y_test,y_lr_test_pred),f1_score(y_test,y_lr_test_pred),precision_score(y_test,y_lr_test_pred),recall_score(y_test,y_lr_test_pred)],\n",
        "            'RandomizedSearchCV(RF)' : [accuracy_score(y_test,y_rscv_test_pred),f1_score(y_test,y_rscv_test_pred),precision_score(y_test,y_rscv_test_pred),recall_score(y_test,y_rscv_test_pred)],\n",
        "            'Gradient Boost Model':[accuracy_score(y_test,preds_gbc_test), f1_score(y_test,preds_gbc_test),precision_score(y_test,preds_gbc_test),recall_score(y_test,preds_gbc_test)],\n",
        "            'RandomForest Model':[accuracy_score(y_test,y_rf_test_pred), f1_score(y_test,y_rf_test_pred),precision_score(y_test,y_rf_test_pred),recall_score(y_test,y_rf_test_pred)],\n",
        "            'Ada Boost Model':[accuracy_score(y_test,preds_ada_test), f1_score(y_test,preds_ada_test),precision_score(y_test,preds_ada_test),recall_score(y_test,preds_ada_test)],\n",
        "            'DecisionTree Model':[accuracy_score(y_test,preds_dtree_test), f1_score(y_test,preds_dtree_test),precision_score(y_test,preds_dtree_test),recall_score(y_test,preds_dtree_test)],\n",
        "            'XGBoost Model':[accuracy_score(y_test,preds_xgb_test), f1_score(y_test,preds_xgb_test),precision_score(y_test,preds_xgb_test),recall_score(y_test,preds_xgb_test)],\n",
        "            'Naive Bayes Model':[accuracy_score(y_test,y_test_pred_count), f1_score(y_test,y_test_pred_count),precision_score(y_test,y_test_pred_count),recall_score(y_test,y_test_pred_count)],\n",
        "            'GridsearchCV Model(DT)':[accuracy_score(y_test,preds_gcv_test), f1_score(y_test,preds_gcv_test),precision_score(y_test,preds_gcv_test),recall_score(y_test,preds_gcv_test)]\n",
        "                                                                                                                                    \n",
        "}"
      ],
      "metadata": {
        "id": "sF16zcXJMwND"
      },
      "execution_count": 58,
      "outputs": []
    },
    {
      "cell_type": "code",
      "source": [
        "best_model = pd.DataFrame(model_dict, index=['Accuracy','F1','Precision','Recall'] ).T\n",
        "print(\" Model Comparision- On Test Data\")\n",
        "print(\"-------------------------------------------------\")\n",
        "best_model.round(2)*100"
      ],
      "metadata": {
        "colab": {
          "base_uri": "https://localhost:8080/",
          "height": 366
        },
        "id": "Pt24JUTkM0-S",
        "outputId": "c6c20abc-eac2-4dbe-ac89-bcffcfdb7904"
      },
      "execution_count": 59,
      "outputs": [
        {
          "output_type": "stream",
          "name": "stdout",
          "text": [
            " Model Comparision- On Test Data\n",
            "-------------------------------------------------\n"
          ]
        },
        {
          "output_type": "execute_result",
          "data": {
            "text/plain": [
              "                        Accuracy    F1  Precision  Recall\n",
              "Logistic Model              98.0  99.0       97.0   100.0\n",
              "RandomizedSearchCV(RF)      94.0  95.0       96.0    94.0\n",
              "Gradient Boost Model        94.0  95.0       93.0    96.0\n",
              "RandomForest Model          97.0  97.0       95.0    99.0\n",
              "Ada Boost Model             93.0  94.0       93.0    95.0\n",
              "DecisionTree Model          91.0  92.0       91.0    94.0\n",
              "XGBoost Model               97.0  97.0       96.0    98.0\n",
              "Naive Bayes Model           77.0  82.0       75.0    91.0\n",
              "GridsearchCV Model(DT)      93.0  94.0       92.0    96.0"
            ],
            "text/html": [
              "\n",
              "  <div id=\"df-eecae562-6c6f-41e6-a82b-b0423268c008\">\n",
              "    <div class=\"colab-df-container\">\n",
              "      <div>\n",
              "<style scoped>\n",
              "    .dataframe tbody tr th:only-of-type {\n",
              "        vertical-align: middle;\n",
              "    }\n",
              "\n",
              "    .dataframe tbody tr th {\n",
              "        vertical-align: top;\n",
              "    }\n",
              "\n",
              "    .dataframe thead th {\n",
              "        text-align: right;\n",
              "    }\n",
              "</style>\n",
              "<table border=\"1\" class=\"dataframe\">\n",
              "  <thead>\n",
              "    <tr style=\"text-align: right;\">\n",
              "      <th></th>\n",
              "      <th>Accuracy</th>\n",
              "      <th>F1</th>\n",
              "      <th>Precision</th>\n",
              "      <th>Recall</th>\n",
              "    </tr>\n",
              "  </thead>\n",
              "  <tbody>\n",
              "    <tr>\n",
              "      <th>Logistic Model</th>\n",
              "      <td>98.0</td>\n",
              "      <td>99.0</td>\n",
              "      <td>97.0</td>\n",
              "      <td>100.0</td>\n",
              "    </tr>\n",
              "    <tr>\n",
              "      <th>RandomizedSearchCV(RF)</th>\n",
              "      <td>94.0</td>\n",
              "      <td>95.0</td>\n",
              "      <td>96.0</td>\n",
              "      <td>94.0</td>\n",
              "    </tr>\n",
              "    <tr>\n",
              "      <th>Gradient Boost Model</th>\n",
              "      <td>94.0</td>\n",
              "      <td>95.0</td>\n",
              "      <td>93.0</td>\n",
              "      <td>96.0</td>\n",
              "    </tr>\n",
              "    <tr>\n",
              "      <th>RandomForest Model</th>\n",
              "      <td>97.0</td>\n",
              "      <td>97.0</td>\n",
              "      <td>95.0</td>\n",
              "      <td>99.0</td>\n",
              "    </tr>\n",
              "    <tr>\n",
              "      <th>Ada Boost Model</th>\n",
              "      <td>93.0</td>\n",
              "      <td>94.0</td>\n",
              "      <td>93.0</td>\n",
              "      <td>95.0</td>\n",
              "    </tr>\n",
              "    <tr>\n",
              "      <th>DecisionTree Model</th>\n",
              "      <td>91.0</td>\n",
              "      <td>92.0</td>\n",
              "      <td>91.0</td>\n",
              "      <td>94.0</td>\n",
              "    </tr>\n",
              "    <tr>\n",
              "      <th>XGBoost Model</th>\n",
              "      <td>97.0</td>\n",
              "      <td>97.0</td>\n",
              "      <td>96.0</td>\n",
              "      <td>98.0</td>\n",
              "    </tr>\n",
              "    <tr>\n",
              "      <th>Naive Bayes Model</th>\n",
              "      <td>77.0</td>\n",
              "      <td>82.0</td>\n",
              "      <td>75.0</td>\n",
              "      <td>91.0</td>\n",
              "    </tr>\n",
              "    <tr>\n",
              "      <th>GridsearchCV Model(DT)</th>\n",
              "      <td>93.0</td>\n",
              "      <td>94.0</td>\n",
              "      <td>92.0</td>\n",
              "      <td>96.0</td>\n",
              "    </tr>\n",
              "  </tbody>\n",
              "</table>\n",
              "</div>\n",
              "      <button class=\"colab-df-convert\" onclick=\"convertToInteractive('df-eecae562-6c6f-41e6-a82b-b0423268c008')\"\n",
              "              title=\"Convert this dataframe to an interactive table.\"\n",
              "              style=\"display:none;\">\n",
              "        \n",
              "  <svg xmlns=\"http://www.w3.org/2000/svg\" height=\"24px\"viewBox=\"0 0 24 24\"\n",
              "       width=\"24px\">\n",
              "    <path d=\"M0 0h24v24H0V0z\" fill=\"none\"/>\n",
              "    <path d=\"M18.56 5.44l.94 2.06.94-2.06 2.06-.94-2.06-.94-.94-2.06-.94 2.06-2.06.94zm-11 1L8.5 8.5l.94-2.06 2.06-.94-2.06-.94L8.5 2.5l-.94 2.06-2.06.94zm10 10l.94 2.06.94-2.06 2.06-.94-2.06-.94-.94-2.06-.94 2.06-2.06.94z\"/><path d=\"M17.41 7.96l-1.37-1.37c-.4-.4-.92-.59-1.43-.59-.52 0-1.04.2-1.43.59L10.3 9.45l-7.72 7.72c-.78.78-.78 2.05 0 2.83L4 21.41c.39.39.9.59 1.41.59.51 0 1.02-.2 1.41-.59l7.78-7.78 2.81-2.81c.8-.78.8-2.07 0-2.86zM5.41 20L4 18.59l7.72-7.72 1.47 1.35L5.41 20z\"/>\n",
              "  </svg>\n",
              "      </button>\n",
              "      \n",
              "  <style>\n",
              "    .colab-df-container {\n",
              "      display:flex;\n",
              "      flex-wrap:wrap;\n",
              "      gap: 12px;\n",
              "    }\n",
              "\n",
              "    .colab-df-convert {\n",
              "      background-color: #E8F0FE;\n",
              "      border: none;\n",
              "      border-radius: 50%;\n",
              "      cursor: pointer;\n",
              "      display: none;\n",
              "      fill: #1967D2;\n",
              "      height: 32px;\n",
              "      padding: 0 0 0 0;\n",
              "      width: 32px;\n",
              "    }\n",
              "\n",
              "    .colab-df-convert:hover {\n",
              "      background-color: #E2EBFA;\n",
              "      box-shadow: 0px 1px 2px rgba(60, 64, 67, 0.3), 0px 1px 3px 1px rgba(60, 64, 67, 0.15);\n",
              "      fill: #174EA6;\n",
              "    }\n",
              "\n",
              "    [theme=dark] .colab-df-convert {\n",
              "      background-color: #3B4455;\n",
              "      fill: #D2E3FC;\n",
              "    }\n",
              "\n",
              "    [theme=dark] .colab-df-convert:hover {\n",
              "      background-color: #434B5C;\n",
              "      box-shadow: 0px 1px 3px 1px rgba(0, 0, 0, 0.15);\n",
              "      filter: drop-shadow(0px 1px 2px rgba(0, 0, 0, 0.3));\n",
              "      fill: #FFFFFF;\n",
              "    }\n",
              "  </style>\n",
              "\n",
              "      <script>\n",
              "        const buttonEl =\n",
              "          document.querySelector('#df-eecae562-6c6f-41e6-a82b-b0423268c008 button.colab-df-convert');\n",
              "        buttonEl.style.display =\n",
              "          google.colab.kernel.accessAllowed ? 'block' : 'none';\n",
              "\n",
              "        async function convertToInteractive(key) {\n",
              "          const element = document.querySelector('#df-eecae562-6c6f-41e6-a82b-b0423268c008');\n",
              "          const dataTable =\n",
              "            await google.colab.kernel.invokeFunction('convertToInteractive',\n",
              "                                                     [key], {});\n",
              "          if (!dataTable) return;\n",
              "\n",
              "          const docLinkHtml = 'Like what you see? Visit the ' +\n",
              "            '<a target=\"_blank\" href=https://colab.research.google.com/notebooks/data_table.ipynb>data table notebook</a>'\n",
              "            + ' to learn more about interactive tables.';\n",
              "          element.innerHTML = '';\n",
              "          dataTable['output_type'] = 'display_data';\n",
              "          await google.colab.output.renderOutput(dataTable, element);\n",
              "          const docLink = document.createElement('div');\n",
              "          docLink.innerHTML = docLinkHtml;\n",
              "          element.appendChild(docLink);\n",
              "        }\n",
              "      </script>\n",
              "    </div>\n",
              "  </div>\n",
              "  "
            ]
          },
          "metadata": {},
          "execution_count": 59
        }
      ]
    },
    {
      "cell_type": "markdown",
      "source": [
        "After building diffirent classification models and on comparing, the following conclusions are made for finalizing the best performing model:\n",
        "\n",
        "- logistic model gave highest accuracy score(98%) compare to all models.\n",
        "\n",
        "- The data is balanced dataset. \n",
        "\n",
        "- Based on the above considerations, **Logistic Classifier** is chosen as the final model ."
      ],
      "metadata": {
        "id": "IajLCXpyshS0"
      }
    }
  ]
}